{
 "cells": [
  {
   "cell_type": "markdown",
   "metadata": {},
   "source": [
    "# Recommender Systems 2024/25"
   ]
  },
  {
   "cell_type": "markdown",
   "metadata": {},
   "source": [
    "### Practice 7 – Graph-based Models"
   ]
  },
  {
   "cell_type": "markdown",
   "metadata": {
    "vscode": {
     "languageId": "plaintext"
    }
   },
   "source": [
    "## Graph-based Recommenders"
   ]
  },
  {
   "cell_type": "markdown",
   "metadata": {},
   "source": [
    "### What is a Graph?\n",
    "\n",
    "In layman terms, a graph is a set of **interconnected entities**. Each entity is represented by a *node*, while the connections are called *edges*. Thus, mathematically speaking, a graph $G \\in \\mathbb{R}^{n\\times n}$ can be represented as two sets, $N$ (nodes) and $E$ (edges).$$G = (N,E) \\\\ N = \\{x_i | i \\in [1, |N|]_{\\mathbb{N}}\\} \\\\ E = \\{\\{x_i, x_j\\} | x_i,x_j \\in N\\}$$"
   ]
  },
  {
   "cell_type": "markdown",
   "metadata": {},
   "source": [
    "### Graph Notation\n",
    "\n",
    "#### Graph Chart\n",
    "\n",
    "Nodes are usually represented graphically as circles, with lines (=edges) connecting one another"
   ]
  },
  {
   "cell_type": "code",
   "execution_count": 1,
   "metadata": {},
   "outputs": [
    {
     "name": "stdout",
     "output_type": "stream",
     "text": [
      "Requirement already satisfied: plotly in /opt/homebrew/Caskroom/miniconda/base/envs/RSFramework/lib/python3.9/site-packages (5.22.0)\n",
      "Requirement already satisfied: tenacity>=6.2.0 in /opt/homebrew/Caskroom/miniconda/base/envs/RSFramework/lib/python3.9/site-packages (from plotly) (8.2.2)\n",
      "Requirement already satisfied: packaging in /opt/homebrew/Caskroom/miniconda/base/envs/RSFramework/lib/python3.9/site-packages (from plotly) (23.2)\n"
     ]
    }
   ],
   "source": [
    "!pip install plotly"
   ]
  },
  {
   "cell_type": "code",
   "execution_count": 2,
   "metadata": {},
   "outputs": [
    {
     "data": {
      "image/png": "[encoded data removed]",
      "text/plain": [
       "<Figure size 640x480 with 1 Axes>"
      ]
     },
     "metadata": {},
     "output_type": "display_data"
    }
   ],
   "source": [
    "import networkx as nx\n",
    "import plotly.graph_objects as go\n",
    "\n",
    "G = nx.Graph()\n",
    "G.add_nodes_from([1,2,3,4,5])\n",
    "G.add_edges_from([(1,2),(1,3),(1,5),(2,4),(3,5)])\n",
    "\n",
    "nx.draw(G, with_labels=True, node_color=\"green\")"
   ]
  },
  {
   "cell_type": "code",
   "execution_count": 3,
   "metadata": {},
   "outputs": [
    {
     "data": {
      "application/vnd.plotly.v1+json": {
       "config": {
        "plotlyServerURL": "https://plot.ly"
       },
       "data": [
        {
         "hoverinfo": "none",
         "line": {
          "color": "gray",
          "width": 1
         },
         "mode": "lines",
         "type": "scatter",
         "x": [
          0.16991911651442762,
          -0.4601688018675636,
          null,
          0.16991911651442762,
          0.4984679961495893,
          null,
          0.16991911651442762,
          0.7917816892035467,
          null,
          -0.4601688018675636,
          -1,
          null,
          0.4984679961495893,
          0.7917816892035467,
          null
         ],
         "y": [
          0.12482395520255483,
          -0.33815869156792977,
          null,
          0.12482395520255483,
          0.6736007964751934,
          null,
          0.12482395520255483,
          0.2744935426173893,
          null,
          -0.33815869156792977,
          -0.7347596027272076,
          null,
          0.6736007964751934,
          0.2744935426173893,
          null
         ]
        },
        {
         "marker": {
          "color": "blue",
          "size": 25
         },
         "mode": "markers+text",
         "text": [
          "1",
          "2",
          "3",
          "4",
          "5"
         ],
         "textposition": "top center",
         "type": "scatter",
         "x": [
          0.16991911651442762,
          -0.4601688018675636,
          0.4984679961495893,
          -1,
          0.7917816892035467
         ],
         "y": [
          0.12482395520255483,
          -0.33815869156792977,
          0.6736007964751934,
          -0.7347596027272076,
          0.2744935426173893
         ]
        }
       ],
       "layout": {
        "hovermode": "closest",
        "showlegend": false,
        "template": {
         "data": {
          "bar": [
           {
            "error_x": {
             "color": "#2a3f5f"
            },
            "error_y": {
             "color": "#2a3f5f"
            },
            "marker": {
             "line": {
              "color": "#E5ECF6",
              "width": 0.5
             },
             "pattern": {
              "fillmode": "overlay",
              "size": 10,
              "solidity": 0.2
             }
            },
            "type": "bar"
           }
          ],
          "barpolar": [
           {
            "marker": {
             "line": {
              "color": "#E5ECF6",
              "width": 0.5
             },
             "pattern": {
              "fillmode": "overlay",
              "size": 10,
              "solidity": 0.2
             }
            },
            "type": "barpolar"
           }
          ],
          "carpet": [
           {
            "aaxis": {
             "endlinecolor": "#2a3f5f",
             "gridcolor": "white",
             "linecolor": "white",
             "minorgridcolor": "white",
             "startlinecolor": "#2a3f5f"
            },
            "baxis": {
             "endlinecolor": "#2a3f5f",
             "gridcolor": "white",
             "linecolor": "white",
             "minorgridcolor": "white",
             "startlinecolor": "#2a3f5f"
            },
            "type": "carpet"
           }
          ],
          "choropleth": [
           {
            "colorbar": {
             "outlinewidth": 0,
             "ticks": ""
            },
            "type": "choropleth"
           }
          ],
          "contour": [
           {
            "colorbar": {
             "outlinewidth": 0,
             "ticks": ""
            },
            "colorscale": [
             [
              0,
              "#0d0887"
             ],
             [
              0.1111111111111111,
              "#46039f"
             ],
             [
              0.2222222222222222,
              "#7201a8"
             ],
             [
              0.3333333333333333,
              "#9c179e"
             ],
             [
              0.4444444444444444,
              "#bd3786"
             ],
             [
              0.5555555555555556,
              "#d8576b"
             ],
             [
              0.6666666666666666,
              "#ed7953"
             ],
             [
              0.7777777777777778,
              "#fb9f3a"
             ],
             [
              0.8888888888888888,
              "#fdca26"
             ],
             [
              1,
              "#f0f921"
             ]
            ],
            "type": "contour"
           }
          ],
          "contourcarpet": [
           {
            "colorbar": {
             "outlinewidth": 0,
             "ticks": ""
            },
            "type": "contourcarpet"
           }
          ],
          "heatmap": [
           {
            "colorbar": {
             "outlinewidth": 0,
             "ticks": ""
            },
            "colorscale": [
             [
              0,
              "#0d0887"
             ],
             [
              0.1111111111111111,
              "#46039f"
             ],
             [
              0.2222222222222222,
              "#7201a8"
             ],
             [
              0.3333333333333333,
              "#9c179e"
             ],
             [
              0.4444444444444444,
              "#bd3786"
             ],
             [
              0.5555555555555556,
              "#d8576b"
             ],
             [
              0.6666666666666666,
              "#ed7953"
             ],
             [
              0.7777777777777778,
              "#fb9f3a"
             ],
             [
              0.8888888888888888,
              "#fdca26"
             ],
             [
              1,
              "#f0f921"
             ]
            ],
            "type": "heatmap"
           }
          ],
          "heatmapgl": [
           {
            "colorbar": {
             "outlinewidth": 0,
             "ticks": ""
            },
            "colorscale": [
             [
              0,
              "#0d0887"
             ],
             [
              0.1111111111111111,
              "#46039f"
             ],
             [
              0.2222222222222222,
              "#7201a8"
             ],
             [
              0.3333333333333333,
              "#9c179e"
             ],
             [
              0.4444444444444444,
              "#bd3786"
             ],
             [
              0.5555555555555556,
              "#d8576b"
             ],
             [
              0.6666666666666666,
              "#ed7953"
             ],
             [
              0.7777777777777778,
              "#fb9f3a"
             ],
             [
              0.8888888888888888,
              "#fdca26"
             ],
             [
              1,
              "#f0f921"
             ]
            ],
            "type": "heatmapgl"
           }
          ],
          "histogram": [
           {
            "marker": {
             "pattern": {
              "fillmode": "overlay",
              "size": 10,
              "solidity": 0.2
             }
            },
            "type": "histogram"
           }
          ],
          "histogram2d": [
           {
            "colorbar": {
             "outlinewidth": 0,
             "ticks": ""
            },
            "colorscale": [
             [
              0,
              "#0d0887"
             ],
             [
              0.1111111111111111,
              "#46039f"
             ],
             [
              0.2222222222222222,
              "#7201a8"
             ],
             [
              0.3333333333333333,
              "#9c179e"
             ],
             [
              0.4444444444444444,
              "#bd3786"
             ],
             [
              0.5555555555555556,
              "#d8576b"
             ],
             [
              0.6666666666666666,
              "#ed7953"
             ],
             [
              0.7777777777777778,
              "#fb9f3a"
             ],
             [
              0.8888888888888888,
              "#fdca26"
             ],
             [
              1,
              "#f0f921"
             ]
            ],
            "type": "histogram2d"
           }
          ],
          "histogram2dcontour": [
           {
            "colorbar": {
             "outlinewidth": 0,
             "ticks": ""
            },
            "colorscale": [
             [
              0,
              "#0d0887"
             ],
             [
              0.1111111111111111,
              "#46039f"
             ],
             [
              0.2222222222222222,
              "#7201a8"
             ],
             [
              0.3333333333333333,
              "#9c179e"
             ],
             [
              0.4444444444444444,
              "#bd3786"
             ],
             [
              0.5555555555555556,
              "#d8576b"
             ],
             [
              0.6666666666666666,
              "#ed7953"
             ],
             [
              0.7777777777777778,
              "#fb9f3a"
             ],
             [
              0.8888888888888888,
              "#fdca26"
             ],
             [
              1,
              "#f0f921"
             ]
            ],
            "type": "histogram2dcontour"
           }
          ],
          "mesh3d": [
           {
            "colorbar": {
             "outlinewidth": 0,
             "ticks": ""
            },
            "type": "mesh3d"
           }
          ],
          "parcoords": [
           {
            "line": {
             "colorbar": {
              "outlinewidth": 0,
              "ticks": ""
             }
            },
            "type": "parcoords"
           }
          ],
          "pie": [
           {
            "automargin": true,
            "type": "pie"
           }
          ],
          "scatter": [
           {
            "fillpattern": {
             "fillmode": "overlay",
             "size": 10,
             "solidity": 0.2
            },
            "type": "scatter"
           }
          ],
          "scatter3d": [
           {
            "line": {
             "colorbar": {
              "outlinewidth": 0,
              "ticks": ""
             }
            },
            "marker": {
             "colorbar": {
              "outlinewidth": 0,
              "ticks": ""
             }
            },
            "type": "scatter3d"
           }
          ],
          "scattercarpet": [
           {
            "marker": {
             "colorbar": {
              "outlinewidth": 0,
              "ticks": ""
             }
            },
            "type": "scattercarpet"
           }
          ],
          "scattergeo": [
           {
            "marker": {
             "colorbar": {
              "outlinewidth": 0,
              "ticks": ""
             }
            },
            "type": "scattergeo"
           }
          ],
          "scattergl": [
           {
            "marker": {
             "colorbar": {
              "outlinewidth": 0,
              "ticks": ""
             }
            },
            "type": "scattergl"
           }
          ],
          "scattermapbox": [
           {
            "marker": {
             "colorbar": {
              "outlinewidth": 0,
              "ticks": ""
             }
            },
            "type": "scattermapbox"
           }
          ],
          "scatterpolar": [
           {
            "marker": {
             "colorbar": {
              "outlinewidth": 0,
              "ticks": ""
             }
            },
            "type": "scatterpolar"
           }
          ],
          "scatterpolargl": [
           {
            "marker": {
             "colorbar": {
              "outlinewidth": 0,
              "ticks": ""
             }
            },
            "type": "scatterpolargl"
           }
          ],
          "scatterternary": [
           {
            "marker": {
             "colorbar": {
              "outlinewidth": 0,
              "ticks": ""
             }
            },
            "type": "scatterternary"
           }
          ],
          "surface": [
           {
            "colorbar": {
             "outlinewidth": 0,
             "ticks": ""
            },
            "colorscale": [
             [
              0,
              "#0d0887"
             ],
             [
              0.1111111111111111,
              "#46039f"
             ],
             [
              0.2222222222222222,
              "#7201a8"
             ],
             [
              0.3333333333333333,
              "#9c179e"
             ],
             [
              0.4444444444444444,
              "#bd3786"
             ],
             [
              0.5555555555555556,
              "#d8576b"
             ],
             [
              0.6666666666666666,
              "#ed7953"
             ],
             [
              0.7777777777777778,
              "#fb9f3a"
             ],
             [
              0.8888888888888888,
              "#fdca26"
             ],
             [
              1,
              "#f0f921"
             ]
            ],
            "type": "surface"
           }
          ],
          "table": [
           {
            "cells": {
             "fill": {
              "color": "#EBF0F8"
             },
             "line": {
              "color": "white"
             }
            },
            "header": {
             "fill": {
              "color": "#C8D4E3"
             },
             "line": {
              "color": "white"
             }
            },
            "type": "table"
           }
          ]
         },
         "layout": {
          "annotationdefaults": {
           "arrowcolor": "#2a3f5f",
           "arrowhead": 0,
           "arrowwidth": 1
          },
          "autotypenumbers": "strict",
          "coloraxis": {
           "colorbar": {
            "outlinewidth": 0,
            "ticks": ""
           }
          },
          "colorscale": {
           "diverging": [
            [
             0,
             "#8e0152"
            ],
            [
             0.1,
             "#c51b7d"
            ],
            [
             0.2,
             "#de77ae"
            ],
            [
             0.3,
             "#f1b6da"
            ],
            [
             0.4,
             "#fde0ef"
            ],
            [
             0.5,
             "#f7f7f7"
            ],
            [
             0.6,
             "#e6f5d0"
            ],
            [
             0.7,
             "#b8e186"
            ],
            [
             0.8,
             "#7fbc41"
            ],
            [
             0.9,
             "#4d9221"
            ],
            [
             1,
             "#276419"
            ]
           ],
           "sequential": [
            [
             0,
             "#0d0887"
            ],
            [
             0.1111111111111111,
             "#46039f"
            ],
            [
             0.2222222222222222,
             "#7201a8"
            ],
            [
             0.3333333333333333,
             "#9c179e"
            ],
            [
             0.4444444444444444,
             "#bd3786"
            ],
            [
             0.5555555555555556,
             "#d8576b"
            ],
            [
             0.6666666666666666,
             "#ed7953"
            ],
            [
             0.7777777777777778,
             "#fb9f3a"
            ],
            [
             0.8888888888888888,
             "#fdca26"
            ],
            [
             1,
             "#f0f921"
            ]
           ],
           "sequentialminus": [
            [
             0,
             "#0d0887"
            ],
            [
             0.1111111111111111,
             "#46039f"
            ],
            [
             0.2222222222222222,
             "#7201a8"
            ],
            [
             0.3333333333333333,
             "#9c179e"
            ],
            [
             0.4444444444444444,
             "#bd3786"
            ],
            [
             0.5555555555555556,
             "#d8576b"
            ],
            [
             0.6666666666666666,
             "#ed7953"
            ],
            [
             0.7777777777777778,
             "#fb9f3a"
            ],
            [
             0.8888888888888888,
             "#fdca26"
            ],
            [
             1,
             "#f0f921"
            ]
           ]
          },
          "colorway": [
           "#636efa",
           "#EF553B",
           "#00cc96",
           "#ab63fa",
           "#FFA15A",
           "#19d3f3",
           "#FF6692",
           "#B6E880",
           "#FF97FF",
           "#FECB52"
          ],
          "font": {
           "color": "#2a3f5f"
          },
          "geo": {
           "bgcolor": "white",
           "lakecolor": "white",
           "landcolor": "#E5ECF6",
           "showlakes": true,
           "showland": true,
           "subunitcolor": "white"
          },
          "hoverlabel": {
           "align": "left"
          },
          "hovermode": "closest",
          "mapbox": {
           "style": "light"
          },
          "paper_bgcolor": "white",
          "plot_bgcolor": "#E5ECF6",
          "polar": {
           "angularaxis": {
            "gridcolor": "white",
            "linecolor": "white",
            "ticks": ""
           },
           "bgcolor": "#E5ECF6",
           "radialaxis": {
            "gridcolor": "white",
            "linecolor": "white",
            "ticks": ""
           }
          },
          "scene": {
           "xaxis": {
            "backgroundcolor": "#E5ECF6",
            "gridcolor": "white",
            "gridwidth": 2,
            "linecolor": "white",
            "showbackground": true,
            "ticks": "",
            "zerolinecolor": "white"
           },
           "yaxis": {
            "backgroundcolor": "#E5ECF6",
            "gridcolor": "white",
            "gridwidth": 2,
            "linecolor": "white",
            "showbackground": true,
            "ticks": "",
            "zerolinecolor": "white"
           },
           "zaxis": {
            "backgroundcolor": "#E5ECF6",
            "gridcolor": "white",
            "gridwidth": 2,
            "linecolor": "white",
            "showbackground": true,
            "ticks": "",
            "zerolinecolor": "white"
           }
          },
          "shapedefaults": {
           "line": {
            "color": "#2a3f5f"
           }
          },
          "ternary": {
           "aaxis": {
            "gridcolor": "white",
            "linecolor": "white",
            "ticks": ""
           },
           "baxis": {
            "gridcolor": "white",
            "linecolor": "white",
            "ticks": ""
           },
           "bgcolor": "#E5ECF6",
           "caxis": {
            "gridcolor": "white",
            "linecolor": "white",
            "ticks": ""
           }
          },
          "title": {
           "x": 0.05
          },
          "xaxis": {
           "automargin": true,
           "gridcolor": "white",
           "linecolor": "white",
           "ticks": "",
           "title": {
            "standoff": 15
           },
           "zerolinecolor": "white",
           "zerolinewidth": 2
          },
          "yaxis": {
           "automargin": true,
           "gridcolor": "white",
           "linecolor": "white",
           "ticks": "",
           "title": {
            "standoff": 15
           },
           "zerolinecolor": "white",
           "zerolinewidth": 2
          }
         }
        },
        "title": {
         "text": "Example Graph"
        }
       }
      }
     },
     "metadata": {},
     "output_type": "display_data"
    }
   ],
   "source": [
    "# Draw a more beautiful, interactive graph\n",
    "\n",
    "def setup_plotly_graph(G : nx.Graph):\n",
    "    pos = nx.spring_layout(G)\n",
    "    edge_x, edge_y = [], []\n",
    "    for edge in G.edges():\n",
    "        x0, y0 = pos[edge[0]]\n",
    "        x1, y1 = pos[edge[1]]\n",
    "        edge_x += [x0, x1, None]\n",
    "        edge_y += [y0, y1, None]\n",
    "\n",
    "    node_x, node_y = zip(*pos.values())\n",
    "\n",
    "    return edge_x, edge_y, node_x, node_y\n",
    "\n",
    "def draw_plotly(G : nx.Graph):\n",
    "    edge_x, edge_y, node_x, node_y = setup_plotly_graph(G)\n",
    "\n",
    "    edge_trace = go.Scatter(x=edge_x, y=edge_y,\n",
    "                            line=dict(width=1, color='gray'),\n",
    "                            hoverinfo='none',\n",
    "                            mode='lines')\n",
    "    node_trace = go.Scatter(x=node_x, y=node_y,\n",
    "                            mode='markers+text',\n",
    "                            marker=dict(size=25, color='blue'),\n",
    "                            text=list(G.nodes),\n",
    "                            textposition=\"top center\")\n",
    "\n",
    "    fig = go.Figure(data=[edge_trace, node_trace],\n",
    "                    layout=go.Layout(title=\"Example Graph\",\n",
    "                                    showlegend=False,\n",
    "                                    hovermode='closest'))\n",
    "    \n",
    "    return fig\n",
    "\n",
    "fig = draw_plotly(G)\n",
    "fig.show()"
   ]
  },
  {
   "cell_type": "markdown",
   "metadata": {},
   "source": [
    "\n",
    "#### Adjacency Lists\n",
    "\n",
    "For each node in the graph, its adjacency list contains all nodes it is connected to. Pros: easily readable, cons: redundant"
   ]
  },
  {
   "cell_type": "code",
   "execution_count": 4,
   "metadata": {},
   "outputs": [
    {
     "name": "stdout",
     "output_type": "stream",
     "text": [
      "1: [2, 3, 5]\n",
      "2: [1, 4]\n",
      "3: [1, 5]\n",
      "4: [2]\n",
      "5: [1, 3]\n"
     ]
    }
   ],
   "source": [
    "for k,v in G.adj.items():\n",
    "    print(\"{}: {}\".format(k, list(v.keys())))"
   ]
  },
  {
   "cell_type": "markdown",
   "metadata": {},
   "source": [
    "#### Adjacency Matrices\n",
    "\n",
    "##### Node-2-Edge"
   ]
  },
  {
   "cell_type": "markdown",
   "metadata": {},
   "source": [
    "A node-2-edge adjacency matrix $A$ has shape equal to $|N|\\times|E|$: each row represents a node within the graph, while each column represents an edge. The element $a_{i,j}$ will be set to 1 (or to edge $j$'s weight) if edge $j$ touches node $i$. Thus, only 2 elements per column (the nodes that are connected by edge $j$) will be greater than zero."
   ]
  },
  {
   "cell_type": "code",
   "execution_count": 5,
   "metadata": {},
   "outputs": [
    {
     "data": {
      "text/plain": [
       "array([[1, 1, 1, 0, 0],\n",
       "       [1, 0, 0, 1, 0],\n",
       "       [0, 1, 0, 0, 1],\n",
       "       [0, 0, 0, 1, 0],\n",
       "       [0, 0, 1, 0, 1]], dtype=int32)"
      ]
     },
     "execution_count": 5,
     "metadata": {},
     "output_type": "execute_result"
    }
   ],
   "source": [
    "import numpy as np\n",
    "\n",
    "def node_to_edge_adjacency_matrix(G : nx.Graph):\n",
    "    # Get the list of nodes and edges\n",
    "    nodes = list(G.nodes)\n",
    "    edges = [(x[0] - 1,x[1] - 1) for x in list(G.edges)]\n",
    "\n",
    "    # Initialize the node-to-edge adjacency matrix\n",
    "    n = len(nodes)\n",
    "    m = len(edges)\n",
    "    matrix = np.zeros((n, m), dtype=np.int32)\n",
    "\n",
    "    # Populate the matrix\n",
    "    for edge_index, (u, v) in enumerate(edges):\n",
    "        matrix[u, edge_index] = 1\n",
    "        matrix[v, edge_index] = 1\n",
    "\n",
    "    return matrix\n",
    "\n",
    "node_to_edge_adjacency_matrix(G)"
   ]
  },
  {
   "cell_type": "markdown",
   "metadata": {},
   "source": [
    "##### Node-2-Node"
   ]
  },
  {
   "cell_type": "markdown",
   "metadata": {},
   "source": [
    "A node-2-node adjacency matrix $B$ has shape equal to $|N|\\times |N|$: each row represents a node, as well as each column. Thus, $b_{i,j}$ will be greater than zero if node $i$ is connected to node $j$ by means of edge $(i,j)$."
   ]
  },
  {
   "cell_type": "code",
   "execution_count": 6,
   "metadata": {},
   "outputs": [
    {
     "data": {
      "text/plain": [
       "array([[0, 1, 1, 0, 1],\n",
       "       [1, 0, 0, 1, 0],\n",
       "       [1, 0, 0, 0, 1],\n",
       "       [0, 1, 0, 0, 0],\n",
       "       [1, 0, 1, 0, 0]], dtype=int32)"
      ]
     },
     "execution_count": 6,
     "metadata": {},
     "output_type": "execute_result"
    }
   ],
   "source": [
    "a = nx.to_numpy_array(G, dtype=np.int32)\n",
    "a"
   ]
  },
  {
   "cell_type": "markdown",
   "metadata": {},
   "source": [
    "### For our purposes, the most convenient form of graph representation are n2n adjacency matrices."
   ]
  },
  {
   "attachments": {
    "image.png": {
     "image/png": "[encoded data removed]"
    }
   },
   "cell_type": "markdown",
   "metadata": {},
   "source": [
    "### Graphs in Recommendation\n",
    "- Nodes: users, items\n",
    "- Edges: interactions\n",
    "\n",
    "The graph representation of a recommendation scenario is inherently *bipartite*.\n",
    "\n",
    "> **Bipartite Graph**: a graph $G$ is bipartite if its set of nodes $N$ can be divided into two **disjoint** sets of nodes, $N_1$ and $N_2$, such that for every edge $e$ in $G$, $e$ connects a node belonging to $N_1$ to a node in $N_2$ or vice versa, thus there is no inter-set connections among nodes within $N_1$ nor $N_2$.\n",
    "\n",
    "In our case, class $N_1$ is defined by the *user nodes*, and class $N_2$ by *item nodes*, since the edges define user-item interactions.\n",
    "\n",
    "Consequently, the graph's adjacency matrix will **contain the URM**.\n",
    "\n",
    "![image.png](attachment:image.png)\n",
    "\n",
    "> **Path**: a sequence of $m + 1$ nodes $n_0 \\rightarrow n_1 \\rightarrow n_2 \\rightarrow ... \\rightarrow n_m$ such that $\\forall i = 1, ..., m, (n_{i-1}, n_{i}) \\in E$.\n",
    "\n",
    "I.e., a *path* is a sequence of connected nodes within a graph. A path will have a starting node $A$ and a destination node $B$. In the context of recommendation, we can think of paths as **collaborative signals**!"
   ]
  },
  {
   "cell_type": "markdown",
   "metadata": {},
   "source": [
    "### Random Walks"
   ]
  },
  {
   "cell_type": "code",
   "execution_count": 7,
   "metadata": {},
   "outputs": [],
   "source": [
    "import time\n",
    "import numpy as np\n",
    "import scipy.sparse as sps\n",
    "from sklearn.preprocessing import normalize"
   ]
  },
  {
   "cell_type": "markdown",
   "metadata": {},
   "source": [
    "#### Illustrative Example\n",
    "Let's create a graph $G$ with 2 users, 3 items and the following adjacency matrix: $$\\begin{bmatrix}0 & 0 & 1 & 0 & 1 \\\\ 0 & 0 & 1 & 1 & 0 \\\\ 1 & 1 & 0 & 0 & 0 \\\\ 0 & 1 & 0 & 0 & 0 \\\\ 1 & 0 & 0 & 0 & 0\\end{bmatrix}.$$\n",
    "\n",
    "It corresponds to the following schema:"
   ]
  },
  {
   "cell_type": "code",
   "execution_count": 8,
   "metadata": {},
   "outputs": [
    {
     "data": {
      "application/vnd.plotly.v1+json": {
       "config": {
        "plotlyServerURL": "https://plot.ly"
       },
       "data": [
        {
         "hoverinfo": "none",
         "line": {
          "color": "gray",
          "width": 1
         },
         "mode": "lines",
         "type": "scatter",
         "x": [
          -0.46600812230332506,
          -0.00019149923285361357,
          null,
          -0.46600812230332506,
          -0.873774449283938,
          null,
          0.46584282569094054,
          -0.00019149923285361357,
          null,
          0.46584282569094054,
          0.8741312451291761,
          null
         ],
         "y": [
          -0.5326870054869758,
          0.0005091352523919569,
          null,
          -0.5326870054869758,
          -1,
          null,
          0.5330801765072917,
          0.0005091352523919569,
          null,
          0.5330801765072917,
          0.9990976937272918,
          null
         ]
        },
        {
         "marker": {
          "color": "blue",
          "size": 25
         },
         "mode": "markers+text",
         "text": [
          "0",
          "1",
          "2",
          "3",
          "4"
         ],
         "textposition": "top center",
         "type": "scatter",
         "x": [
          -0.46600812230332506,
          0.46584282569094054,
          -0.00019149923285361357,
          0.8741312451291761,
          -0.873774449283938
         ],
         "y": [
          -0.5326870054869758,
          0.5330801765072917,
          0.0005091352523919569,
          0.9990976937272918,
          -1
         ]
        }
       ],
       "layout": {
        "hovermode": "closest",
        "showlegend": false,
        "template": {
         "data": {
          "bar": [
           {
            "error_x": {
             "color": "#2a3f5f"
            },
            "error_y": {
             "color": "#2a3f5f"
            },
            "marker": {
             "line": {
              "color": "#E5ECF6",
              "width": 0.5
             },
             "pattern": {
              "fillmode": "overlay",
              "size": 10,
              "solidity": 0.2
             }
            },
            "type": "bar"
           }
          ],
          "barpolar": [
           {
            "marker": {
             "line": {
              "color": "#E5ECF6",
              "width": 0.5
             },
             "pattern": {
              "fillmode": "overlay",
              "size": 10,
              "solidity": 0.2
             }
            },
            "type": "barpolar"
           }
          ],
          "carpet": [
           {
            "aaxis": {
             "endlinecolor": "#2a3f5f",
             "gridcolor": "white",
             "linecolor": "white",
             "minorgridcolor": "white",
             "startlinecolor": "#2a3f5f"
            },
            "baxis": {
             "endlinecolor": "#2a3f5f",
             "gridcolor": "white",
             "linecolor": "white",
             "minorgridcolor": "white",
             "startlinecolor": "#2a3f5f"
            },
            "type": "carpet"
           }
          ],
          "choropleth": [
           {
            "colorbar": {
             "outlinewidth": 0,
             "ticks": ""
            },
            "type": "choropleth"
           }
          ],
          "contour": [
           {
            "colorbar": {
             "outlinewidth": 0,
             "ticks": ""
            },
            "colorscale": [
             [
              0,
              "#0d0887"
             ],
             [
              0.1111111111111111,
              "#46039f"
             ],
             [
              0.2222222222222222,
              "#7201a8"
             ],
             [
              0.3333333333333333,
              "#9c179e"
             ],
             [
              0.4444444444444444,
              "#bd3786"
             ],
             [
              0.5555555555555556,
              "#d8576b"
             ],
             [
              0.6666666666666666,
              "#ed7953"
             ],
             [
              0.7777777777777778,
              "#fb9f3a"
             ],
             [
              0.8888888888888888,
              "#fdca26"
             ],
             [
              1,
              "#f0f921"
             ]
            ],
            "type": "contour"
           }
          ],
          "contourcarpet": [
           {
            "colorbar": {
             "outlinewidth": 0,
             "ticks": ""
            },
            "type": "contourcarpet"
           }
          ],
          "heatmap": [
           {
            "colorbar": {
             "outlinewidth": 0,
             "ticks": ""
            },
            "colorscale": [
             [
              0,
              "#0d0887"
             ],
             [
              0.1111111111111111,
              "#46039f"
             ],
             [
              0.2222222222222222,
              "#7201a8"
             ],
             [
              0.3333333333333333,
              "#9c179e"
             ],
             [
              0.4444444444444444,
              "#bd3786"
             ],
             [
              0.5555555555555556,
              "#d8576b"
             ],
             [
              0.6666666666666666,
              "#ed7953"
             ],
             [
              0.7777777777777778,
              "#fb9f3a"
             ],
             [
              0.8888888888888888,
              "#fdca26"
             ],
             [
              1,
              "#f0f921"
             ]
            ],
            "type": "heatmap"
           }
          ],
          "heatmapgl": [
           {
            "colorbar": {
             "outlinewidth": 0,
             "ticks": ""
            },
            "colorscale": [
             [
              0,
              "#0d0887"
             ],
             [
              0.1111111111111111,
              "#46039f"
             ],
             [
              0.2222222222222222,
              "#7201a8"
             ],
             [
              0.3333333333333333,
              "#9c179e"
             ],
             [
              0.4444444444444444,
              "#bd3786"
             ],
             [
              0.5555555555555556,
              "#d8576b"
             ],
             [
              0.6666666666666666,
              "#ed7953"
             ],
             [
              0.7777777777777778,
              "#fb9f3a"
             ],
             [
              0.8888888888888888,
              "#fdca26"
             ],
             [
              1,
              "#f0f921"
             ]
            ],
            "type": "heatmapgl"
           }
          ],
          "histogram": [
           {
            "marker": {
             "pattern": {
              "fillmode": "overlay",
              "size": 10,
              "solidity": 0.2
             }
            },
            "type": "histogram"
           }
          ],
          "histogram2d": [
           {
            "colorbar": {
             "outlinewidth": 0,
             "ticks": ""
            },
            "colorscale": [
             [
              0,
              "#0d0887"
             ],
             [
              0.1111111111111111,
              "#46039f"
             ],
             [
              0.2222222222222222,
              "#7201a8"
             ],
             [
              0.3333333333333333,
              "#9c179e"
             ],
             [
              0.4444444444444444,
              "#bd3786"
             ],
             [
              0.5555555555555556,
              "#d8576b"
             ],
             [
              0.6666666666666666,
              "#ed7953"
             ],
             [
              0.7777777777777778,
              "#fb9f3a"
             ],
             [
              0.8888888888888888,
              "#fdca26"
             ],
             [
              1,
              "#f0f921"
             ]
            ],
            "type": "histogram2d"
           }
          ],
          "histogram2dcontour": [
           {
            "colorbar": {
             "outlinewidth": 0,
             "ticks": ""
            },
            "colorscale": [
             [
              0,
              "#0d0887"
             ],
             [
              0.1111111111111111,
              "#46039f"
             ],
             [
              0.2222222222222222,
              "#7201a8"
             ],
             [
              0.3333333333333333,
              "#9c179e"
             ],
             [
              0.4444444444444444,
              "#bd3786"
             ],
             [
              0.5555555555555556,
              "#d8576b"
             ],
             [
              0.6666666666666666,
              "#ed7953"
             ],
             [
              0.7777777777777778,
              "#fb9f3a"
             ],
             [
              0.8888888888888888,
              "#fdca26"
             ],
             [
              1,
              "#f0f921"
             ]
            ],
            "type": "histogram2dcontour"
           }
          ],
          "mesh3d": [
           {
            "colorbar": {
             "outlinewidth": 0,
             "ticks": ""
            },
            "type": "mesh3d"
           }
          ],
          "parcoords": [
           {
            "line": {
             "colorbar": {
              "outlinewidth": 0,
              "ticks": ""
             }
            },
            "type": "parcoords"
           }
          ],
          "pie": [
           {
            "automargin": true,
            "type": "pie"
           }
          ],
          "scatter": [
           {
            "fillpattern": {
             "fillmode": "overlay",
             "size": 10,
             "solidity": 0.2
            },
            "type": "scatter"
           }
          ],
          "scatter3d": [
           {
            "line": {
             "colorbar": {
              "outlinewidth": 0,
              "ticks": ""
             }
            },
            "marker": {
             "colorbar": {
              "outlinewidth": 0,
              "ticks": ""
             }
            },
            "type": "scatter3d"
           }
          ],
          "scattercarpet": [
           {
            "marker": {
             "colorbar": {
              "outlinewidth": 0,
              "ticks": ""
             }
            },
            "type": "scattercarpet"
           }
          ],
          "scattergeo": [
           {
            "marker": {
             "colorbar": {
              "outlinewidth": 0,
              "ticks": ""
             }
            },
            "type": "scattergeo"
           }
          ],
          "scattergl": [
           {
            "marker": {
             "colorbar": {
              "outlinewidth": 0,
              "ticks": ""
             }
            },
            "type": "scattergl"
           }
          ],
          "scattermapbox": [
           {
            "marker": {
             "colorbar": {
              "outlinewidth": 0,
              "ticks": ""
             }
            },
            "type": "scattermapbox"
           }
          ],
          "scatterpolar": [
           {
            "marker": {
             "colorbar": {
              "outlinewidth": 0,
              "ticks": ""
             }
            },
            "type": "scatterpolar"
           }
          ],
          "scatterpolargl": [
           {
            "marker": {
             "colorbar": {
              "outlinewidth": 0,
              "ticks": ""
             }
            },
            "type": "scatterpolargl"
           }
          ],
          "scatterternary": [
           {
            "marker": {
             "colorbar": {
              "outlinewidth": 0,
              "ticks": ""
             }
            },
            "type": "scatterternary"
           }
          ],
          "surface": [
           {
            "colorbar": {
             "outlinewidth": 0,
             "ticks": ""
            },
            "colorscale": [
             [
              0,
              "#0d0887"
             ],
             [
              0.1111111111111111,
              "#46039f"
             ],
             [
              0.2222222222222222,
              "#7201a8"
             ],
             [
              0.3333333333333333,
              "#9c179e"
             ],
             [
              0.4444444444444444,
              "#bd3786"
             ],
             [
              0.5555555555555556,
              "#d8576b"
             ],
             [
              0.6666666666666666,
              "#ed7953"
             ],
             [
              0.7777777777777778,
              "#fb9f3a"
             ],
             [
              0.8888888888888888,
              "#fdca26"
             ],
             [
              1,
              "#f0f921"
             ]
            ],
            "type": "surface"
           }
          ],
          "table": [
           {
            "cells": {
             "fill": {
              "color": "#EBF0F8"
             },
             "line": {
              "color": "white"
             }
            },
            "header": {
             "fill": {
              "color": "#C8D4E3"
             },
             "line": {
              "color": "white"
             }
            },
            "type": "table"
           }
          ]
         },
         "layout": {
          "annotationdefaults": {
           "arrowcolor": "#2a3f5f",
           "arrowhead": 0,
           "arrowwidth": 1
          },
          "autotypenumbers": "strict",
          "coloraxis": {
           "colorbar": {
            "outlinewidth": 0,
            "ticks": ""
           }
          },
          "colorscale": {
           "diverging": [
            [
             0,
             "#8e0152"
            ],
            [
             0.1,
             "#c51b7d"
            ],
            [
             0.2,
             "#de77ae"
            ],
            [
             0.3,
             "#f1b6da"
            ],
            [
             0.4,
             "#fde0ef"
            ],
            [
             0.5,
             "#f7f7f7"
            ],
            [
             0.6,
             "#e6f5d0"
            ],
            [
             0.7,
             "#b8e186"
            ],
            [
             0.8,
             "#7fbc41"
            ],
            [
             0.9,
             "#4d9221"
            ],
            [
             1,
             "#276419"
            ]
           ],
           "sequential": [
            [
             0,
             "#0d0887"
            ],
            [
             0.1111111111111111,
             "#46039f"
            ],
            [
             0.2222222222222222,
             "#7201a8"
            ],
            [
             0.3333333333333333,
             "#9c179e"
            ],
            [
             0.4444444444444444,
             "#bd3786"
            ],
            [
             0.5555555555555556,
             "#d8576b"
            ],
            [
             0.6666666666666666,
             "#ed7953"
            ],
            [
             0.7777777777777778,
             "#fb9f3a"
            ],
            [
             0.8888888888888888,
             "#fdca26"
            ],
            [
             1,
             "#f0f921"
            ]
           ],
           "sequentialminus": [
            [
             0,
             "#0d0887"
            ],
            [
             0.1111111111111111,
             "#46039f"
            ],
            [
             0.2222222222222222,
             "#7201a8"
            ],
            [
             0.3333333333333333,
             "#9c179e"
            ],
            [
             0.4444444444444444,
             "#bd3786"
            ],
            [
             0.5555555555555556,
             "#d8576b"
            ],
            [
             0.6666666666666666,
             "#ed7953"
            ],
            [
             0.7777777777777778,
             "#fb9f3a"
            ],
            [
             0.8888888888888888,
             "#fdca26"
            ],
            [
             1,
             "#f0f921"
            ]
           ]
          },
          "colorway": [
           "#636efa",
           "#EF553B",
           "#00cc96",
           "#ab63fa",
           "#FFA15A",
           "#19d3f3",
           "#FF6692",
           "#B6E880",
           "#FF97FF",
           "#FECB52"
          ],
          "font": {
           "color": "#2a3f5f"
          },
          "geo": {
           "bgcolor": "white",
           "lakecolor": "white",
           "landcolor": "#E5ECF6",
           "showlakes": true,
           "showland": true,
           "subunitcolor": "white"
          },
          "hoverlabel": {
           "align": "left"
          },
          "hovermode": "closest",
          "mapbox": {
           "style": "light"
          },
          "paper_bgcolor": "white",
          "plot_bgcolor": "#E5ECF6",
          "polar": {
           "angularaxis": {
            "gridcolor": "white",
            "linecolor": "white",
            "ticks": ""
           },
           "bgcolor": "#E5ECF6",
           "radialaxis": {
            "gridcolor": "white",
            "linecolor": "white",
            "ticks": ""
           }
          },
          "scene": {
           "xaxis": {
            "backgroundcolor": "#E5ECF6",
            "gridcolor": "white",
            "gridwidth": 2,
            "linecolor": "white",
            "showbackground": true,
            "ticks": "",
            "zerolinecolor": "white"
           },
           "yaxis": {
            "backgroundcolor": "#E5ECF6",
            "gridcolor": "white",
            "gridwidth": 2,
            "linecolor": "white",
            "showbackground": true,
            "ticks": "",
            "zerolinecolor": "white"
           },
           "zaxis": {
            "backgroundcolor": "#E5ECF6",
            "gridcolor": "white",
            "gridwidth": 2,
            "linecolor": "white",
            "showbackground": true,
            "ticks": "",
            "zerolinecolor": "white"
           }
          },
          "shapedefaults": {
           "line": {
            "color": "#2a3f5f"
           }
          },
          "ternary": {
           "aaxis": {
            "gridcolor": "white",
            "linecolor": "white",
            "ticks": ""
           },
           "baxis": {
            "gridcolor": "white",
            "linecolor": "white",
            "ticks": ""
           },
           "bgcolor": "#E5ECF6",
           "caxis": {
            "gridcolor": "white",
            "linecolor": "white",
            "ticks": ""
           }
          },
          "title": {
           "x": 0.05
          },
          "xaxis": {
           "automargin": true,
           "gridcolor": "white",
           "linecolor": "white",
           "ticks": "",
           "title": {
            "standoff": 15
           },
           "zerolinecolor": "white",
           "zerolinewidth": 2
          },
          "yaxis": {
           "automargin": true,
           "gridcolor": "white",
           "linecolor": "white",
           "ticks": "",
           "title": {
            "standoff": 15
           },
           "zerolinecolor": "white",
           "zerolinewidth": 2
          }
         }
        },
        "title": {
         "text": "Example Graph"
        }
       }
      }
     },
     "metadata": {},
     "output_type": "display_data"
    }
   ],
   "source": [
    "G = nx.from_dict_of_dicts({\n",
    "    0 : {2 : {}, 4 : {}},\n",
    "    1 : {2 : {}, 3 : {}},\n",
    "    2 : {0 : {}, 1 : {}},\n",
    "    3 : {1 : {}},\n",
    "    4 : {0 : {}}\n",
    "})\n",
    "\n",
    "draw_plotly(G)"
   ]
  },
  {
   "cell_type": "code",
   "execution_count": 9,
   "metadata": {},
   "outputs": [
    {
     "data": {
      "text/plain": [
       "array([[0, 0, 1, 0, 1],\n",
       "       [0, 0, 1, 1, 0],\n",
       "       [1, 1, 0, 0, 0],\n",
       "       [0, 1, 0, 0, 0],\n",
       "       [1, 0, 0, 0, 0]], dtype=int32)"
      ]
     },
     "execution_count": 9,
     "metadata": {},
     "output_type": "execute_result"
    }
   ],
   "source": [
    "a = nx.to_numpy_array(G, dtype=np.int32)\n",
    "a"
   ]
  },
  {
   "cell_type": "markdown",
   "metadata": {},
   "source": [
    "To compute a random walk, we need to compute the node-to-node *transition probability matrix* $P$. Then, we simply select a node and create a starting state $\\Pi^{(0)}$, which is nothing more than a one-hot-encoding vector identifying the selected starting node, and we multiply it by $P$, obtaining state $\\Pi^{(1)}$. This represents a step in our random walk: if we want to take more steps, we simply take $\\Pi^{(n)}$ and multiply it by $P$ again and again, following what is known as a *Markov chain*."
   ]
  },
  {
   "cell_type": "code",
   "execution_count": 10,
   "metadata": {},
   "outputs": [],
   "source": [
    "# Transition probability function\n",
    "def transition(g : np.ndarray, n0 : int, hops : int):\n",
    "    # initial state\n",
    "    state = np.zeros(g.shape[1], dtype=np.float32)\n",
    "    state[n0] = 1\n",
    "\n",
    "    # compute transition probability matrix (can be done once)\n",
    "    transition_probability_matrix = np.array([x / x.sum().astype(np.float32) for x in g], dtype=np.float32)\n",
    "    # print(transition_probability_matrix)\n",
    "\n",
    "    j = 0\n",
    "    print(\"Hop: 0, state: {}\".format(state))\n",
    "    while j != hops:\n",
    "        state = state.dot(transition_probability_matrix)\n",
    "        print(\"Hop: {}, state: {}\".format(j+1, state))\n",
    "        j += 1\n",
    "    return state"
   ]
  },
  {
   "cell_type": "code",
   "execution_count": 11,
   "metadata": {},
   "outputs": [
    {
     "name": "stdout",
     "output_type": "stream",
     "text": [
      "Hop: 0, state: [1. 0. 0. 0. 0.]\n",
      "Hop: 1, state: [0.  0.  0.5 0.  0.5]\n",
      "Hop: 2, state: [0.75 0.25 0.   0.   0.  ]\n",
      "Hop: 3, state: [0.    0.    0.5   0.125 0.375]\n"
     ]
    },
    {
     "data": {
      "text/plain": [
       "array([0.   , 0.   , 0.5  , 0.125, 0.375], dtype=float32)"
      ]
     },
     "execution_count": 11,
     "metadata": {},
     "output_type": "execute_result"
    }
   ],
   "source": [
    "transition(g=a, n0=0, hops=3)"
   ]
  },
  {
   "cell_type": "markdown",
   "metadata": {},
   "source": [
    "#### Steady State"
   ]
  },
  {
   "cell_type": "markdown",
   "metadata": {},
   "source": [
    "If we continue walking for long enough, we will reach a *periodic steady state*: our walk will find an equilibrium, and start jumping from the same subset of users to the same subset of item every time."
   ]
  },
  {
   "cell_type": "code",
   "execution_count": 12,
   "metadata": {},
   "outputs": [
    {
     "name": "stdout",
     "output_type": "stream",
     "text": [
      "Hop: 0, state: [1. 0. 0. 0. 0.]\n",
      "Hop: 1, state: [0.  0.  0.5 0.  0.5]\n",
      "Hop: 2, state: [0.75 0.25 0.   0.   0.  ]\n",
      "Hop: 3, state: [0.    0.    0.5   0.125 0.375]\n",
      "Hop: 4, state: [0.625 0.375 0.    0.    0.   ]\n",
      "Hop: 5, state: [0.     0.     0.5    0.1875 0.3125]\n",
      "Hop: 6, state: [0.5625 0.4375 0.     0.     0.    ]\n",
      "Hop: 7, state: [0.      0.      0.5     0.21875 0.28125]\n",
      "Hop: 8, state: [0.53125 0.46875 0.      0.      0.     ]\n",
      "Hop: 9, state: [0.       0.       0.5      0.234375 0.265625]\n",
      "Hop: 10, state: [0.515625 0.484375 0.       0.       0.      ]\n",
      "Hop: 11, state: [0.        0.        0.5       0.2421875 0.2578125]\n",
      "Hop: 12, state: [0.5078125 0.4921875 0.        0.        0.       ]\n",
      "Hop: 13, state: [0.         0.         0.5        0.24609375 0.25390625]\n",
      "Hop: 14, state: [0.50390625 0.49609375 0.         0.         0.        ]\n",
      "Hop: 15, state: [0.         0.         0.5        0.24804688 0.25195312]\n",
      "Hop: 16, state: [0.5019531  0.49804688 0.         0.         0.        ]\n",
      "Hop: 17, state: [0.         0.         0.5        0.24902344 0.25097656]\n",
      "Hop: 18, state: [0.50097656 0.49902344 0.         0.         0.        ]\n",
      "Hop: 19, state: [0.         0.         0.5        0.24951172 0.25048828]\n",
      "Hop: 20, state: [0.5004883  0.49951172 0.         0.         0.        ]\n",
      "Hop: 21, state: [0.         0.         0.5        0.24975586 0.25024414]\n",
      "Hop: 22, state: [0.50024414 0.49975586 0.         0.         0.        ]\n",
      "Hop: 23, state: [0.         0.         0.5        0.24987793 0.25012207]\n",
      "Hop: 24, state: [0.5001221  0.49987793 0.         0.         0.        ]\n",
      "Hop: 25, state: [0.         0.         0.5        0.24993896 0.25006104]\n",
      "Hop: 26, state: [0.50006104 0.49993896 0.         0.         0.        ]\n",
      "Hop: 27, state: [0.         0.         0.5        0.24996948 0.25003052]\n",
      "Hop: 28, state: [0.5000305  0.49996948 0.         0.         0.        ]\n",
      "Hop: 29, state: [0.         0.         0.5        0.24998474 0.25001526]\n",
      "Hop: 30, state: [0.50001526 0.49998474 0.         0.         0.        ]\n",
      "Hop: 31, state: [0.         0.         0.5        0.24999237 0.25000763]\n",
      "Hop: 32, state: [0.5000076  0.49999237 0.         0.         0.        ]\n",
      "Hop: 33, state: [0.         0.         0.5        0.24999619 0.2500038 ]\n",
      "Hop: 34, state: [0.5000038 0.4999962 0.        0.        0.       ]\n",
      "Hop: 35, state: [0.        0.        0.5       0.2499981 0.2500019]\n",
      "Hop: 36, state: [0.5000019 0.4999981 0.        0.        0.       ]\n",
      "Hop: 37, state: [0.         0.         0.5        0.24999905 0.25000095]\n",
      "Hop: 38, state: [0.50000095 0.49999905 0.         0.         0.        ]\n",
      "Hop: 39, state: [0.         0.         0.5        0.24999952 0.25000048]\n",
      "Hop: 40, state: [0.5000005  0.49999952 0.         0.         0.        ]\n",
      "Hop: 41, state: [0.         0.         0.5        0.24999976 0.25000024]\n",
      "Hop: 42, state: [0.50000024 0.49999976 0.         0.         0.        ]\n",
      "Hop: 43, state: [0.         0.         0.5        0.24999988 0.25000012]\n",
      "Hop: 44, state: [0.5000001  0.49999988 0.         0.         0.        ]\n",
      "Hop: 45, state: [0.         0.         0.5        0.24999994 0.25000006]\n",
      "Hop: 46, state: [0.50000006 0.49999994 0.         0.         0.        ]\n",
      "Hop: 47, state: [0.         0.         0.5        0.24999997 0.25000003]\n",
      "Hop: 48, state: [0.5        0.49999997 0.         0.         0.        ]\n",
      "Hop: 49, state: [0.         0.         0.5        0.24999999 0.25      ]\n",
      "Hop: 50, state: [0.5 0.5 0.  0.  0. ]\n"
     ]
    },
    {
     "data": {
      "text/plain": [
       "array([0.5, 0.5, 0. , 0. , 0. ], dtype=float32)"
      ]
     },
     "execution_count": 12,
     "metadata": {},
     "output_type": "execute_result"
    }
   ],
   "source": [
    "transition(g=a, n0=0, hops=50)"
   ]
  },
  {
   "cell_type": "markdown",
   "metadata": {},
   "source": [
    "### $P^3$, $P^3_\\alpha$, $RP^3_\\beta$"
   ]
  },
  {
   "cell_type": "markdown",
   "metadata": {},
   "source": [
    "Loading the dataset and splitting it in the usual way:"
   ]
  },
  {
   "cell_type": "code",
   "execution_count": 13,
   "metadata": {},
   "outputs": [
    {
     "name": "stdout",
     "output_type": "stream",
     "text": [
      "Movielens10M: Verifying data consistency...\n",
      "Movielens10M: Verifying data consistency... Passed!\n",
      "DataReader: current dataset is: Movielens10M\n",
      "\tNumber of items: 10681\n",
      "\tNumber of users: 69878\n",
      "\tNumber of interactions in URM_all: 10000054\n",
      "\tValue range in URM_all: 0.50-5.00\n",
      "\tInteraction density: 1.34E-02\n",
      "\tInteractions per user:\n",
      "\t\t Min: 2.00E+01\n",
      "\t\t Avg: 1.43E+02\n",
      "\t\t Max: 7.36E+03\n",
      "\tInteractions per item:\n",
      "\t\t Min: 0.00E+00\n",
      "\t\t Avg: 9.36E+02\n",
      "\t\t Max: 3.49E+04\n",
      "\tGini Index: 0.57\n",
      "\n",
      "\tICM name: ICM_tags, Value range: 1.00 / 69.00, Num features: 10106, feature occurrences: 106820, density 9.90E-04\n",
      "\tICM name: ICM_genres, Value range: 1.00 / 1.00, Num features: 20, feature occurrences: 21564, density 1.01E-01\n",
      "\tICM name: ICM_all, Value range: 1.00 / 69.00, Num features: 10126, feature occurrences: 128384, density 1.19E-03\n",
      "\tICM name: ICM_year, Value range: 1.92E+03 / 2.01E+03, Num features: 1, feature occurrences: 10681, density 1.00E+00\n",
      "\n",
      "\n",
      "Warning: 70 (0.10 %) of 69878 users have no sampled items\n",
      "Warning: 227 (0.32 %) of 69878 users have no sampled items\n"
     ]
    }
   ],
   "source": [
    "from Data_manager.split_functions.split_train_validation_random_holdout import split_train_in_two_percentage_global_sample\n",
    "from Data_manager.Movielens.Movielens10MReader import Movielens10MReader\n",
    "\n",
    "data_reader = Movielens10MReader()\n",
    "data_loaded = data_reader.load_data()\n",
    "\n",
    "URM_all = data_loaded.get_URM_all()\n",
    "\n",
    "URM_train_val, URM_test = split_train_in_two_percentage_global_sample(URM_all, 0.8)\n",
    "URM_train, URM_val = split_train_in_two_percentage_global_sample(URM_train_val, 0.8)"
   ]
  },
  {
   "cell_type": "markdown",
   "metadata": {},
   "source": [
    "Our transition function would pretty much still work to build a random-walk based recommender. PROBLEM: this is not an illustrative example. We are dealing with tens of millions of interactions within a matrix that is immensely sparse! Computing it in full as we have done before would kill the program due to memory issues."
   ]
  },
  {
   "cell_type": "code",
   "execution_count": 14,
   "metadata": {},
   "outputs": [],
   "source": [
    "def transition_matrix(g : np.ndarray, hops : int):\n",
    "    # initial state\n",
    "    state = np.diag(np.ones(g.shape))\n",
    "\n",
    "    # compute transition probability matrix (can be done once)\n",
    "    transition_probability_matrix = np.array([x / x.sum().astype(np.float32) for x in g], dtype=np.float32) # -> this is equivalent to a column-wise l1 normalization\n",
    "    # print(transition_probability_matrix)\n",
    "\n",
    "    j = 0\n",
    "    print(\"Hop: 0, state: {}\".format(state))\n",
    "    while j != hops:\n",
    "        state = state.dot(transition_probability_matrix)\n",
    "        print(\"Hop: {}, state: {}\".format(j+1, state))\n",
    "        j += 1\n",
    "    return state"
   ]
  },
  {
   "cell_type": "markdown",
   "metadata": {},
   "source": [
    "To save RAM, we will compute the matrix multiplications in gradual blocks, and store each block in one data structure that will be built up incrementally. Introducing the `Incremental_Similarity_Builder`, a structure built for this exact purpose you can find in the framework:"
   ]
  },
  {
   "cell_type": "code",
   "execution_count": 15,
   "metadata": {},
   "outputs": [],
   "source": [
    "class Incremental_Similarity_Builder:\n",
    "    \n",
    "    def __init__(self, matrix_size_0, matrix_size_1, initial_data_block = 10000000, additional_data_block = 10000000, dtype = np.float32):\n",
    "\n",
    "        self._matrix_size = [matrix_size_0, matrix_size_1]\n",
    "        self._initial_data_block = initial_data_block\n",
    "        self._additional_data_block = additional_data_block\n",
    "        self._next_cell_pointer = 0\n",
    "\n",
    "        self._dtype_data = dtype\n",
    "        self._dtype_coordinates = np.uint32\n",
    "        self._max_value_of_coordinate_dtype = np.iinfo(self._dtype_coordinates).max\n",
    "\n",
    "        self._row_array = np.zeros(self._initial_data_block, dtype=self._dtype_coordinates)\n",
    "        self._col_array = np.zeros(self._initial_data_block, dtype=self._dtype_coordinates)\n",
    "        self._data_array = np.zeros(self._initial_data_block, dtype=self._dtype_data)\n",
    "\n",
    "\n",
    "    def add_data_lists(self, row_list_to_add, col_list_to_add, data_list_to_add):\n",
    "\n",
    "        for data_point_index in range(len(row_list_to_add)):\n",
    "\n",
    "            if self._next_cell_pointer == len(self._row_array):\n",
    "                self._row_array = np.concatenate((self._row_array, np.zeros(self._additional_data_block, dtype=self._dtype_coordinates)))\n",
    "                self._col_array = np.concatenate((self._col_array, np.zeros(self._additional_data_block, dtype=self._dtype_coordinates)))\n",
    "                self._data_array = np.concatenate((self._data_array, np.zeros(self._additional_data_block, dtype=self._dtype_data)))\n",
    "\n",
    "            self._row_array[self._next_cell_pointer] = row_list_to_add[data_point_index]\n",
    "            self._col_array[self._next_cell_pointer] = col_list_to_add[data_point_index]\n",
    "            self._data_array[self._next_cell_pointer] = data_list_to_add[data_point_index]\n",
    "\n",
    "            self._next_cell_pointer += 1\n",
    "\n",
    "    def get_SparseMatrix(self):\n",
    "\n",
    "        shape = (self._matrix_size[0], self._matrix_size[1])\n",
    "\n",
    "        sparseMatrix = sps.csr_matrix((self._data_array[:self._next_cell_pointer],\n",
    "                                       (self._row_array[:self._next_cell_pointer], self._col_array[:self._next_cell_pointer])),\n",
    "                                      shape=shape,\n",
    "                                      dtype=self._dtype_data)\n",
    "\n",
    "        sparseMatrix.eliminate_zeros()\n",
    "\n",
    "        return sparseMatrix"
   ]
  },
  {
   "cell_type": "markdown",
   "metadata": {},
   "source": [
    "With the help of `Incremental_Similarity_Builder` we can now build the block-based matrix multiplication. To additionally increase sparsity in order to save memory, we can select the top-K greatest values for each row using `similarityMatrixTopK`:"
   ]
  },
  {
   "cell_type": "code",
   "execution_count": 16,
   "metadata": {},
   "outputs": [],
   "source": [
    "from Recommenders.Recommender_utils import similarityMatrixTopK\n",
    "\n",
    "def block_mul(matrix_1, matrix_2, block_dim : int = 200, topK = 100, normalize_sim : bool = False, degree = None):\n",
    "\n",
    "    similarity_builder = Incremental_Similarity_Builder(matrix_1.shape[0], matrix_2.shape[1], initial_data_block=matrix_2.shape[1]*topK, dtype = np.float32)\n",
    "\n",
    "    for current_block_start_row in range(0, matrix_1.shape[0], block_dim):\n",
    "\n",
    "        if current_block_start_row + block_dim > matrix_1.shape[0]:\n",
    "            block_dim = matrix_1.shape[0] - current_block_start_row\n",
    "\n",
    "        similarity_block = matrix_1[current_block_start_row:current_block_start_row + block_dim, :] * matrix_2\n",
    "        similarity_block = similarity_block.toarray()\n",
    "\n",
    "        for row_in_block in range(block_dim):\n",
    "            row_data = similarity_block[row_in_block, :]\n",
    "            if degree is not None : row_data = np.multiply(row_data, degree)\n",
    "            if current_block_start_row + row_in_block < matrix_2.shape[1]:\n",
    "                row_data[current_block_start_row + row_in_block] = 0 # <-- elements on diagonal are set to 0, prevent obvious solution\n",
    "\n",
    "            relevant_items_partition = np.argpartition(-row_data, topK-1, axis=0)[:topK]\n",
    "            row_data = row_data[relevant_items_partition]\n",
    "\n",
    "            # Incrementally build sparse matrix, do not add zeros\n",
    "            if np.any(row_data == 0.0):\n",
    "                non_zero_mask = row_data != 0.0\n",
    "                relevant_items_partition = relevant_items_partition[non_zero_mask]\n",
    "                row_data = row_data[non_zero_mask]\n",
    "\n",
    "            similarity_builder.add_data_lists(row_list_to_add=np.ones(len(row_data), dtype = np.int32) * (current_block_start_row + row_in_block),\n",
    "                                            col_list_to_add=relevant_items_partition,\n",
    "                                            data_list_to_add=row_data)\n",
    "\n",
    "    W_sparse = similarity_builder.get_SparseMatrix()\n",
    "\n",
    "    if normalize_sim:\n",
    "        W_sparse = normalize(W_sparse, norm='l1', axis=1)\n",
    "\n",
    "    if topK and W_sparse.get_shape()[0] == W_sparse.get_shape()[1]:\n",
    "        W_sparse = similarityMatrixTopK(W_sparse, k=topK)\n",
    "\n",
    "    return W_sparse"
   ]
  },
  {
   "cell_type": "markdown",
   "metadata": {},
   "source": [
    "Now that we have a functional block-based matrix multiplication, we can re-build the transition function. To increase efficiency even more, we can exploit the sparsity of the transition probability matrix:$$\\begin{bmatrix}0 & P_{ui} \\\\ P_{iu} & 0\\end{bmatrix}.$$ Remember that $P_{ui}$ is nothing more than the column-wise L1 normalization of $URM$, and $P_{iu}$ is the analogous normalization of $URM^T$. After 3 random walk steps, the state matrix looks like this: $$\\begin{bmatrix}0 & P_{ui}\\cdot P_{iu}\\cdot P_{ui} \\\\ P_{iu} \\cdot P_{ui} \\cdot P_{iu} & 0\\end{bmatrix}.$$\n",
    "Since the only random walk meta-path we care about is $U \\rightarrow I \\rightarrow U \\rightarrow I$, we can compute the top-right portion of the matrix and ignore the rest."
   ]
  },
  {
   "cell_type": "code",
   "execution_count": 17,
   "metadata": {},
   "outputs": [],
   "source": [
    "# We don't need to compute the full matrix, we just need Pui and Piu which we can compute from the URM\n",
    "def transition_matrix_blocks(URM, hops : int, alpha : float = 1., beta : float = 1., topK : int = 100, extract_similarity : bool = False, normalize_sim : bool = False):\n",
    "\n",
    "    # compute Pui (column-wise l1 norm)\n",
    "    P_ui = normalize(URM, norm='l1', axis=1)\n",
    "\n",
    "    # compute Piu (column-wise l1 norm over TRANSPOSED URM)\n",
    "    t_URM = URM.transpose(copy=True)\n",
    "    t_URM.data = np.ones(t_URM.data.size, np.float32) # <- we binarize: weights, if present, are already in P_ui\n",
    "\n",
    "    if beta != 1. : # RP3beta\n",
    "\n",
    "        t_URM_sum = np.array(t_URM.sum(axis=1)).ravel()\n",
    "        degree = np.zeros(URM.shape[1])\n",
    "\n",
    "        non_zero_mask = (t_URM_sum!=0.0)\n",
    "        degree[non_zero_mask] = np.power(t_URM_sum[non_zero_mask], -beta)\n",
    "    else : degree = None\n",
    "\n",
    "    P_iu = normalize(t_URM, norm='l1', axis=1) # <- axis is still 1, because transposition was performed beforehand\n",
    "    del(t_URM) # <- save memory\n",
    "\n",
    "    if alpha != 1. : # P3alpha\n",
    "        P_ui = P_ui.power(alpha)\n",
    "        P_iu = P_iu.power(alpha)\n",
    "\n",
    "    j = 1\n",
    "    state = P_ui \n",
    "    deg = None\n",
    "\n",
    "    # equivalence to similarity item-based model: extracting sim matrix could be useful for hybrids\n",
    "    sim_matrix = P_iu if extract_similarity else None\n",
    "    \n",
    "    while j < hops:\n",
    "        if j == hops - 1: deg = degree\n",
    "        if j % 2 != 0:\n",
    "            state = block_mul(state, P_iu, topK=topK, normalize_sim=normalize_sim, degree=deg) # state * P_iu\n",
    "            if extract_similarity and (j > 1 and j < hops - 1) :\n",
    "                sim_matrix = block_mul(sim_matrix, P_iu, topK=topK, normalize_sim=normalize_sim, degree=deg) # sim_matrix * P_iu\n",
    "        else:\n",
    "            state = block_mul(state, P_ui, topK=topK, normalize_sim=normalize_sim, degree=deg) # state * P_ui\n",
    "            if extract_similarity and (j >= 1 and j < hops - 1) :\n",
    "                sim_matrix = block_mul(sim_matrix, P_ui, topK=topK, normalize_sim=normalize_sim, degree=deg) # sim_matrix * P_ui\n",
    "        j += 1\n",
    "\n",
    "    return state, sim_matrix"
   ]
  },
  {
   "cell_type": "markdown",
   "metadata": {},
   "source": [
    "Notice how the hyperparameters $\\alpha$ and $\\beta$ act within the function: we can set those to some value in order to compute $P^3_\\alpha$ and/or $RP^3_\\beta$. The `extract_similarity` flag allows us to extract also a similarity matrix we could use to build hybrids. In fact, graph-based methods can be thought of as similarity-based methods: in the case of a 3-step random walk, the matrix $P_{iu} \\cdot P_{ui}$ works as a similarity matrix, which we can multiply to any user profile to obtain recommendation predictions.\n",
    "\n",
    "Notice that creating a similarity matrix in the way we show in this notebook is inefficient in terms of memory, as it creates an additional hefty matrix which we would essentially use to compute the same predictions: for this reason, the `Recommenders.GraphBased` classes within the framework cut the ambiguities short and *only* compute the similarity matrix.\n",
    "\n",
    "Finally, let's put everything together in a `Recommender` class."
   ]
  },
  {
   "cell_type": "code",
   "execution_count": 18,
   "metadata": {},
   "outputs": [],
   "source": [
    "from typing import Optional\n",
    "from Recommenders.BaseRecommender import BaseRecommender\n",
    "\n",
    "class P3Recommender(BaseRecommender):\n",
    "    def __init__(self, URM, topK : int = 100, normalize_sim : bool = False):\n",
    "        super().__init__(URM)\n",
    "        self.topK = topK\n",
    "        self.normalize_sim = normalize_sim\n",
    "\n",
    "    def fit(self):\n",
    "        self.three_step_walk, _ = transition_matrix_blocks(self.URM_train,\n",
    "                                                           3,\n",
    "                                                           topK=self.topK,\n",
    "                                                           normalize_sim=self.normalize_sim,\n",
    "                                                           extract_similarity=False)\n",
    "\n",
    "    def recommend(self, user_id, remove_seen : bool = True, at : Optional[int] = None):\n",
    "        Pi_0 = np.zeros(self.URM_train.shape[0], dtype=np.int32)\n",
    "        Pi_0[user_id] = 1\n",
    "        Pi_0 = sps.csr_matrix(Pi_0)\n",
    "\n",
    "        ranking = Pi_0.dot(self.three_step_walk).toarray().ravel()\n",
    "\n",
    "        if remove_seen:\n",
    "            user_profile_start = self.URM_train.indptr[user_id]\n",
    "            user_profile_end = self.URM_train.indptr[user_id+1]\n",
    "            \n",
    "            seen_items = self.URM_train.indices[user_profile_start:user_profile_end]\n",
    "            \n",
    "            ranking[seen_items] = -np.inf\n",
    "            \n",
    "        ranking = np.flip(np.argsort(ranking))\n",
    "        return ranking[:at]"
   ]
  },
  {
   "cell_type": "code",
   "execution_count": 19,
   "metadata": {},
   "outputs": [],
   "source": [
    "class P3alphaRecommender(BaseRecommender):\n",
    "    def __init__(self, URM, alpha, topK : int = 100, normalize_sim : bool = False, extract_similarity=False):\n",
    "        super().__init__(URM)\n",
    "        self.alpha = alpha\n",
    "        self.topK = topK\n",
    "        self.normalize_sim = normalize_sim\n",
    "        self.extract_similarity = extract_similarity\n",
    "\n",
    "    def fit(self):\n",
    "        self.three_step_walk, self.sim_matrix = transition_matrix_blocks(self.URM_train,\n",
    "                                                                         3,\n",
    "                                                                         self.alpha,\n",
    "                                                                         topK=self.topK,\n",
    "                                                                         extract_similarity=self.extract_similarity,\n",
    "                                                                         normalize_sim=self.normalize_sim) # <- only change wrt P3 is the alpha exponent\n",
    "\n",
    "    def recommend(self, user_id, remove_seen : bool = True, at : Optional[int] = None):\n",
    "        Pi_0 = np.zeros(self.URM_train.shape[0], dtype=np.int32)\n",
    "        Pi_0[user_id] = 1\n",
    "        Pi_0 = sps.csr_matrix(Pi_0)\n",
    "\n",
    "        ranking = Pi_0.dot(self.three_step_walk).toarray().ravel()\n",
    "\n",
    "        if remove_seen:\n",
    "            user_profile_start = self.URM_train.indptr[user_id]\n",
    "            user_profile_end = self.URM_train.indptr[user_id+1]\n",
    "            \n",
    "            seen_items = self.URM_train.indices[user_profile_start:user_profile_end]\n",
    "            \n",
    "            ranking[seen_items] = -np.inf\n",
    "            \n",
    "        ranking = np.flip(np.argsort(ranking))\n",
    "        return ranking[:at]"
   ]
  },
  {
   "cell_type": "code",
   "execution_count": 20,
   "metadata": {},
   "outputs": [],
   "source": [
    "class RP3betaRecommender(BaseRecommender):\n",
    "    def __init__(self, URM, alpha, beta, topK : int = 100, normalize_sim : bool = False):\n",
    "        super().__init__(URM)\n",
    "        self.alpha = alpha\n",
    "        self.beta = beta\n",
    "        self.topK = topK\n",
    "        self.normalize_sim = normalize_sim\n",
    "\n",
    "    def fit(self):\n",
    "        self.three_step_walk, _ = transition_matrix_blocks(self.URM_train,\n",
    "                                                           3,\n",
    "                                                           self.alpha,\n",
    "                                                           self.beta,\n",
    "                                                           topK=self.topK,\n",
    "                                                           normalize_sim=self.normalize_sim,\n",
    "                                                           extract_similarity=False) # <- only change wrt P3alpha is beta\n",
    "\n",
    "    def recommend(self, user_id, remove_seen : bool = True, at : Optional[int] = None):\n",
    "        Pi_0 = np.zeros(self.URM_train.shape[0], dtype=np.int32)\n",
    "        Pi_0[user_id] = 1\n",
    "        Pi_0 = sps.csr_matrix(Pi_0)\n",
    "\n",
    "        ranking = Pi_0.dot(self.three_step_walk).toarray().ravel()\n",
    "\n",
    "        if remove_seen:\n",
    "            user_profile_start = self.URM_train.indptr[user_id]\n",
    "            user_profile_end = self.URM_train.indptr[user_id+1]\n",
    "            \n",
    "            seen_items = self.URM_train.indices[user_profile_start:user_profile_end]\n",
    "            \n",
    "            ranking[seen_items] = -np.inf\n",
    "            \n",
    "        ranking = np.flip(np.argsort(ranking))\n",
    "        return ranking[:at]"
   ]
  },
  {
   "cell_type": "markdown",
   "metadata": {},
   "source": [
    "In order to evaluate the models, we implement some metrics, as seen in Practice 02."
   ]
  },
  {
   "cell_type": "code",
   "execution_count": 21,
   "metadata": {},
   "outputs": [],
   "source": [
    "def precision(recommended_items, relevant_items):\n",
    "    \n",
    "    is_relevant = np.in1d(recommended_items, relevant_items, assume_unique=True)\n",
    "    \n",
    "    precision_score = np.sum(is_relevant, dtype=np.float32) / len(is_relevant)\n",
    "    \n",
    "    return precision_score\n",
    "\n",
    "def recall(recommended_items, relevant_items):\n",
    "    \n",
    "    is_relevant = np.in1d(recommended_items, relevant_items, assume_unique=True)\n",
    "    \n",
    "    recall_score = np.sum(is_relevant, dtype=np.float32) / relevant_items.shape[0]\n",
    "    \n",
    "    return recall_score\n",
    "\n",
    "def AP(recommended_items, relevant_items):\n",
    "   \n",
    "    is_relevant = np.in1d(recommended_items, relevant_items, assume_unique=True)\n",
    "    \n",
    "    # Cumulative sum: precision at 1, at 2, at 3 ...\n",
    "    p_at_k = is_relevant * np.cumsum(is_relevant, dtype=np.float32) / (1 + np.arange(is_relevant.shape[0]))\n",
    "    \n",
    "    ap_score = np.sum(p_at_k) / np.min([relevant_items.shape[0], is_relevant.shape[0]])\n",
    "\n",
    "    return ap_score\n",
    "\n",
    "def evaluate_recommender(URM_test : sps.csr_matrix, recommender : BaseRecommender, cutoff : int = 10):\n",
    "    \n",
    "    cumulative_precision = 0.0\n",
    "    cumulative_recall = 0.0\n",
    "    cumulative_AP = 0.0\n",
    "    \n",
    "    num_eval = 0\n",
    "\n",
    "    for user_id in range(URM_test.shape[0]):\n",
    "\n",
    "        relevant_items = URM_test.indices[URM_test.indptr[user_id]:URM_test.indptr[user_id+1]]\n",
    "        \n",
    "        if len(relevant_items)>0:\n",
    "            \n",
    "            recommended_items = recommender.recommend(user_id, at=cutoff)\n",
    "            num_eval+=1\n",
    "\n",
    "            cumulative_precision += precision(recommended_items, relevant_items)\n",
    "            cumulative_recall += recall(recommended_items, relevant_items)\n",
    "            cumulative_AP += AP(recommended_items, relevant_items)\n",
    "            \n",
    "    cumulative_precision /= num_eval\n",
    "    cumulative_recall /= num_eval\n",
    "    MAP = cumulative_AP / num_eval\n",
    "    \n",
    "    print(\"Recommender results are: Precision = {:.4f}, Recall = {:.4f}, MAP = {:.4f}\".format(\n",
    "        cumulative_precision, cumulative_recall, MAP)) \n",
    "    \n",
    "    return MAP"
   ]
  },
  {
   "cell_type": "markdown",
   "metadata": {},
   "source": [
    "We have now all the material necessary to fit and evaluate our classes."
   ]
  },
  {
   "cell_type": "code",
   "execution_count": 22,
   "metadata": {},
   "outputs": [
    {
     "name": "stdout",
     "output_type": "stream",
     "text": [
      "Recommender_Base_Class: URM Detected 33 ( 0.3%) items with no interactions.\n",
      "Recommender_Base_Class: URM Detected 33 ( 0.3%) items with no interactions.\n",
      "Recommender_Base_Class: URM Detected 33 ( 0.3%) items with no interactions.\n",
      "Recommender results are: Precision = 0.1460, Recall = 0.1225, MAP = 0.0976\n",
      "P3 trained in 2.88 min\n",
      "Recommender results are: Precision = 0.1869, Recall = 0.1282, MAP = 0.1263\n",
      "P3alpha trained in 2.85 min\n",
      "Recommender results are: Precision = 0.0701, Recall = 0.0642, MAP = 0.0399\n",
      "RP3beta trained in 2.81 min\n"
     ]
    }
   ],
   "source": [
    "# PRAXIS WHEN USING THE COURSE'S FRAMEWORK: USE EvaluatorHoldout FOR EVALUATIONS\n",
    "# from Evaluation.Evaluator import EvaluatorHoldout\n",
    "# evaluator_test = EvaluatorHoldout(URM_test, cutoff_list=[10])\n",
    "from Utils.seconds_to_biggest_unit import seconds_to_biggest_unit\n",
    "\n",
    "models = {\n",
    "    'P3' : P3Recommender(URM_train_val),\n",
    "    'P3alpha' : P3alphaRecommender(URM_train_val, alpha=0.5, extract_similarity=True),\n",
    "    'RP3beta' : RP3betaRecommender(URM_train_val, alpha=0.5, beta=0.3)\n",
    "}\n",
    "\n",
    "for model_name, model_obj in models.items():\n",
    "    time_start = time.time()\n",
    "    model_obj.fit()\n",
    "    time_end_value, time_unit = seconds_to_biggest_unit(time.time() - time_start)\n",
    "    # PRAXIS WHEN USING THE COURSE'S FRAMEWORK: result_df, _ = evaluator_test.evaluateRecommender(model_obj)\n",
    "    _ = evaluate_recommender(URM_test, model_obj)\n",
    "    print(\"{} trained in {:.2f} {}\".format(model_name, time_end_value, time_unit))"
   ]
  },
  {
   "cell_type": "markdown",
   "metadata": {},
   "source": [
    "Using `optuna`, we can run some hyperparameter optimization trials:"
   ]
  },
  {
   "cell_type": "code",
   "execution_count": 23,
   "metadata": {},
   "outputs": [
    {
     "name": "stderr",
     "output_type": "stream",
     "text": [
      "[I 2024-12-05 15:34:57,555] A new study created in memory with name: no-name-1da03be1-3b57-48ad-83e7-adfe3df75985\n",
      "[I 2024-12-05 15:34:57,555] A new study created in memory with name: no-name-c24d9cd2-2044-4e6f-83b5-ec1c5e180a55\n"
     ]
    }
   ],
   "source": [
    "# Create and launch optuna study for each recommender. Optimize for MAP@10.\n",
    "import pandas as pd\n",
    "\n",
    "import optuna\n",
    "\n",
    "def objective_function_P3alpha(optuna_trial):\n",
    "    recommender_instance = P3alphaRecommender(URM_train,\n",
    "                                              alpha=optuna_trial.suggest_float(\"alpha\", 0.01, 0.99),\n",
    "                                              topK=optuna_trial.suggest_int(\"topK\", 5, 150),\n",
    "                                              normalize_sim=optuna_trial.suggest_int(\"normalize_sim\", 0, 1))\n",
    "\n",
    "    recommender_instance.fit()\n",
    "\n",
    "    evaluation = evaluate_recommender(URM_val, recommender_instance)\n",
    "    return evaluation\n",
    "\n",
    "def objective_function_RP3beta(optuna_trial):\n",
    "    recommender_instance = RP3betaRecommender(URM_train,\n",
    "                                              alpha=optuna_trial.suggest_float(\"alpha\", 0.01, 0.99),\n",
    "                                              beta=optuna_trial.suggest_float(\"beta\", 0.01, 0.99),\n",
    "                                              topK=optuna_trial.suggest_int(\"topK\", 5, 150),\n",
    "                                              normalize_sim=optuna_trial.suggest_int(\"normalize_sim\", 0, 1))\n",
    "    \n",
    "    recommender_instance.fit()\n",
    "    \n",
    "    evaluation = evaluate_recommender(URM_val, recommender_instance)\n",
    "    return evaluation\n",
    "\n",
    "class SaveResults(object):\n",
    "    \n",
    "    def __init__(self):\n",
    "        self.results_df = pd.DataFrame(columns = [\"result\"])\n",
    "    \n",
    "    def __call__(self, optuna_study, optuna_trial):\n",
    "        hyperparam_dict = optuna_trial.params.copy()\n",
    "        hyperparam_dict[\"result\"] = optuna_trial.values[0]\n",
    "        \n",
    "        self.results_df = pd.concat([self.results_df, pd.DataFrame([hyperparam_dict])], ignore_index=True)\n",
    "\n",
    "optuna_study_P3alpha = optuna.create_study(direction=\"maximize\")\n",
    "optuna_study_RP3beta = optuna.create_study(direction=\"maximize\")\n",
    "save_results_P3alpha = SaveResults()\n",
    "save_results_RP3beta = SaveResults()"
   ]
  },
  {
   "cell_type": "code",
   "execution_count": null,
   "metadata": {},
   "outputs": [
    {
     "name": "stdout",
     "output_type": "stream",
     "text": [
      "Recommender_Base_Class: URM Detected 63 ( 0.6%) items with no interactions.\n"
     ]
    }
   ],
   "source": [
    "optuna_study_P3alpha.optimize(objective_function_P3alpha,\n",
    "                              callbacks=[save_results_P3alpha],\n",
    "                              n_trials=5)\n",
    "\n",
    "P3alpha_optimal = P3alphaRecommender(URM_train_val,\n",
    "                                     alpha=optuna_study_P3alpha.best_trial.params['alpha'],\n",
    "                                     topK=optuna_study_P3alpha.best_trial.params['topK'],\n",
    "                                     normalize_sim=optuna_study_P3alpha.best_trial.params['normalize_sim'])\n",
    "P3alpha_optimal.fit()\n",
    "_ = evaluate_recommender(URM_test, P3alpha_optimal)"
   ]
  },
  {
   "cell_type": "code",
   "execution_count": null,
   "metadata": {},
   "outputs": [
    {
     "name": "stdout",
     "output_type": "stream",
     "text": [
      "Recommender_Base_Class: URM Detected 72 ( 0.7%) items with no interactions.\n"
     ]
    },
    {
     "name": "stderr",
     "output_type": "stream",
     "text": [
      "[I 2024-12-05 11:17:18,825] Trial 0 finished with value: 0.0007832848526214606 and parameters: {'alpha': 0.13816576352217333, 'beta': 0.7675199258210855, 'topK': 74, 'normalize_sim': 0}. Best is trial 0 with value: 0.0007832848526214606.\n"
     ]
    },
    {
     "name": "stdout",
     "output_type": "stream",
     "text": [
      "Recommender results are: Precision = 0.0023, Recall = 0.0026, MAP = 0.0008\n",
      "Recommender_Base_Class: URM Detected 72 ( 0.7%) items with no interactions.\n"
     ]
    },
    {
     "name": "stderr",
     "output_type": "stream",
     "text": [
      "/var/folders/pp/q0kl1bl507q_7gsf1tczbrg80000gn/T/ipykernel_36348/1586423476.py:38: FutureWarning:\n",
      "\n",
      "The behavior of DataFrame concatenation with empty or all-NA entries is deprecated. In a future version, this will no longer exclude empty or all-NA columns when determining the result dtypes. To retain the old behavior, exclude the relevant entries before the concat operation.\n",
      "\n",
      "[I 2024-12-05 11:22:20,438] Trial 1 finished with value: 0.011508608619804454 and parameters: {'alpha': 0.15830414583349872, 'beta': 0.34858823902629654, 'topK': 57, 'normalize_sim': 0}. Best is trial 1 with value: 0.011508608619804454.\n"
     ]
    },
    {
     "name": "stdout",
     "output_type": "stream",
     "text": [
      "Recommender results are: Precision = 0.0212, Recall = 0.0286, MAP = 0.0115\n",
      "Recommender_Base_Class: URM Detected 72 ( 0.7%) items with no interactions.\n"
     ]
    },
    {
     "name": "stderr",
     "output_type": "stream",
     "text": [
      "[I 2024-12-05 11:30:24,973] Trial 2 finished with value: 0.00697170031549431 and parameters: {'alpha': 0.606117578606874, 'beta': 0.5900084759332745, 'topK': 136, 'normalize_sim': 1}. Best is trial 1 with value: 0.011508608619804454.\n"
     ]
    },
    {
     "name": "stdout",
     "output_type": "stream",
     "text": [
      "Recommender results are: Precision = 0.0131, Recall = 0.0199, MAP = 0.0070\n",
      "Recommender_Base_Class: URM Detected 72 ( 0.7%) items with no interactions.\n"
     ]
    },
    {
     "name": "stderr",
     "output_type": "stream",
     "text": [
      "[I 2024-12-05 11:36:33,305] Trial 3 finished with value: 0.0004824428943243249 and parameters: {'alpha': 0.06605006757828416, 'beta': 0.9410833280888563, 'topK': 99, 'normalize_sim': 1}. Best is trial 1 with value: 0.011508608619804454.\n"
     ]
    },
    {
     "name": "stdout",
     "output_type": "stream",
     "text": [
      "Recommender results are: Precision = 0.0017, Recall = 0.0007, MAP = 0.0005\n",
      "Recommender_Base_Class: URM Detected 72 ( 0.7%) items with no interactions.\n"
     ]
    },
    {
     "name": "stderr",
     "output_type": "stream",
     "text": [
      "[I 2024-12-05 11:41:39,812] Trial 4 finished with value: 0.004936541207895078 and parameters: {'alpha': 0.8060329781280261, 'beta': 0.6542546332371698, 'topK': 64, 'normalize_sim': 0}. Best is trial 1 with value: 0.011508608619804454.\n"
     ]
    },
    {
     "name": "stdout",
     "output_type": "stream",
     "text": [
      "Recommender results are: Precision = 0.0110, Recall = 0.0143, MAP = 0.0049\n",
      "Recommender_Base_Class: URM Detected 72 ( 0.7%) items with no interactions.\n"
     ]
    },
    {
     "name": "stderr",
     "output_type": "stream",
     "text": [
      "[I 2024-12-05 11:46:27,976] Trial 5 finished with value: 0.0010867754159389238 and parameters: {'alpha': 0.3317446611261399, 'beta': 0.7087016501008411, 'topK': 66, 'normalize_sim': 1}. Best is trial 1 with value: 0.011508608619804454.\n"
     ]
    },
    {
     "name": "stdout",
     "output_type": "stream",
     "text": [
      "Recommender results are: Precision = 0.0033, Recall = 0.0029, MAP = 0.0011\n",
      "Recommender_Base_Class: URM Detected 72 ( 0.7%) items with no interactions.\n"
     ]
    },
    {
     "name": "stderr",
     "output_type": "stream",
     "text": [
      "[I 2024-12-05 11:49:37,849] Trial 6 finished with value: 0.0010287106722887886 and parameters: {'alpha': 0.13398871960676667, 'beta': 0.7339761601892191, 'topK': 20, 'normalize_sim': 0}. Best is trial 1 with value: 0.011508608619804454.\n"
     ]
    },
    {
     "name": "stdout",
     "output_type": "stream",
     "text": [
      "Recommender results are: Precision = 0.0027, Recall = 0.0029, MAP = 0.0010\n",
      "Recommender_Base_Class: URM Detected 72 ( 0.7%) items with no interactions.\n"
     ]
    },
    {
     "name": "stderr",
     "output_type": "stream",
     "text": [
      "[I 2024-12-05 11:55:55,292] Trial 7 finished with value: 0.0038113592712490673 and parameters: {'alpha': 0.08170106716394615, 'beta': 0.5109778981140413, 'topK': 103, 'normalize_sim': 1}. Best is trial 1 with value: 0.011508608619804454.\n"
     ]
    },
    {
     "name": "stdout",
     "output_type": "stream",
     "text": [
      "Recommender results are: Precision = 0.0079, Recall = 0.0117, MAP = 0.0038\n",
      "Recommender_Base_Class: URM Detected 72 ( 0.7%) items with no interactions.\n"
     ]
    },
    {
     "name": "stderr",
     "output_type": "stream",
     "text": [
      "[I 2024-12-05 11:58:55,676] Trial 8 finished with value: 0.0027386509046307818 and parameters: {'alpha': 0.5839069631159212, 'beta': 0.406539203723294, 'topK': 17, 'normalize_sim': 1}. Best is trial 1 with value: 0.011508608619804454.\n"
     ]
    },
    {
     "name": "stdout",
     "output_type": "stream",
     "text": [
      "Recommender results are: Precision = 0.0052, Recall = 0.0070, MAP = 0.0027\n",
      "Recommender_Base_Class: URM Detected 72 ( 0.7%) items with no interactions.\n"
     ]
    },
    {
     "name": "stderr",
     "output_type": "stream",
     "text": [
      "[I 2024-12-05 12:08:05,341] Trial 9 finished with value: 0.04475421056481944 and parameters: {'alpha': 0.8410532210931146, 'beta': 0.20883840392024278, 'topK': 146, 'normalize_sim': 1}. Best is trial 9 with value: 0.04475421056481944.\n"
     ]
    },
    {
     "name": "stdout",
     "output_type": "stream",
     "text": [
      "Recommender results are: Precision = 0.0754, Recall = 0.0923, MAP = 0.0448\n",
      "Recommender_Base_Class: URM Detected 31 ( 0.3%) items with no interactions.\n",
      "Recommender results are: Precision = 0.1015, Recall = 0.1020, MAP = 0.0621\n"
     ]
    }
   ],
   "source": [
    "optuna_study_RP3beta.optimize(objective_function_RP3beta,\n",
    "                              callbacks=[save_results_RP3beta],\n",
    "                              n_trials=5)\n",
    "\n",
    "RP3beta_optimal = RP3betaRecommender(URM_train_val,\n",
    "                                     alpha=optuna_study_RP3beta.best_trial.params['alpha'],\n",
    "                                     beta=optuna_study_RP3beta.best_trial.params['beta'],\n",
    "                                     topK=optuna_study_RP3beta.best_trial.params['topK'],\n",
    "                                     normalize_sim=optuna_study_RP3beta.best_trial.params['normalize_sim'])\n",
    "\n",
    "RP3beta_optimal.fit()\n",
    "_ = evaluate_recommender(URM_test, RP3beta_optimal)"
   ]
  },
  {
   "cell_type": "markdown",
   "metadata": {},
   "source": [
    "In the following cell, we show how to correctly import, fit and evaluate a `Recommenders.GraphBased` model straight from the framework."
   ]
  },
  {
   "cell_type": "code",
   "execution_count": null,
   "metadata": {},
   "outputs": [
    {
     "name": "stdout",
     "output_type": "stream",
     "text": [
      "RP3betaRecommender: URM Detected 31 ( 0.3%) items with no interactions.\n",
      "RP3betaRecommender: Similarity column 10681 (100.0%), 1681.39 column/sec. Elapsed time 6.35 sec\n",
      "EvaluatorHoldout: Ignoring 81 ( 0.1%) Users that have less than 1 test interactions\n",
      "EvaluatorHoldout: Processed 69797 (100.0%) in 11.56 sec. Users per second: 6037\n"
     ]
    },
    {
     "data": {
      "text/html": [
       "<div>\n",
       "<style scoped>\n",
       "    .dataframe tbody tr th:only-of-type {\n",
       "        vertical-align: middle;\n",
       "    }\n",
       "\n",
       "    .dataframe tbody tr th {\n",
       "        vertical-align: top;\n",
       "    }\n",
       "\n",
       "    .dataframe thead th {\n",
       "        text-align: right;\n",
       "    }\n",
       "</style>\n",
       "<table border=\"1\" class=\"dataframe\">\n",
       "  <thead>\n",
       "    <tr style=\"text-align: right;\">\n",
       "      <th></th>\n",
       "      <th>PRECISION</th>\n",
       "      <th>PRECISION_RECALL_MIN_DEN</th>\n",
       "      <th>RECALL</th>\n",
       "      <th>MAP</th>\n",
       "      <th>MAP_MIN_DEN</th>\n",
       "      <th>MRR</th>\n",
       "      <th>NDCG</th>\n",
       "      <th>F1</th>\n",
       "      <th>HIT_RATE</th>\n",
       "      <th>ARHR_ALL_HITS</th>\n",
       "      <th>...</th>\n",
       "      <th>COVERAGE_USER</th>\n",
       "      <th>COVERAGE_USER_HIT</th>\n",
       "      <th>USERS_IN_GT</th>\n",
       "      <th>DIVERSITY_GINI</th>\n",
       "      <th>SHANNON_ENTROPY</th>\n",
       "      <th>RATIO_DIVERSITY_HERFINDAHL</th>\n",
       "      <th>RATIO_DIVERSITY_GINI</th>\n",
       "      <th>RATIO_SHANNON_ENTROPY</th>\n",
       "      <th>RATIO_AVERAGE_POPULARITY</th>\n",
       "      <th>RATIO_NOVELTY</th>\n",
       "    </tr>\n",
       "    <tr>\n",
       "      <th>cutoff</th>\n",
       "      <th></th>\n",
       "      <th></th>\n",
       "      <th></th>\n",
       "      <th></th>\n",
       "      <th></th>\n",
       "      <th></th>\n",
       "      <th></th>\n",
       "      <th></th>\n",
       "      <th></th>\n",
       "      <th></th>\n",
       "      <th></th>\n",
       "      <th></th>\n",
       "      <th></th>\n",
       "      <th></th>\n",
       "      <th></th>\n",
       "      <th></th>\n",
       "      <th></th>\n",
       "      <th></th>\n",
       "      <th></th>\n",
       "      <th></th>\n",
       "      <th></th>\n",
       "    </tr>\n",
       "  </thead>\n",
       "  <tbody>\n",
       "    <tr>\n",
       "      <th>10</th>\n",
       "      <td>0.276798</td>\n",
       "      <td>0.319192</td>\n",
       "      <td>0.181803</td>\n",
       "      <td>0.19267</td>\n",
       "      <td>0.215998</td>\n",
       "      <td>0.576656</td>\n",
       "      <td>0.27116</td>\n",
       "      <td>0.219462</td>\n",
       "      <td>0.82366</td>\n",
       "      <td>1.013639</td>\n",
       "      <td>...</td>\n",
       "      <td>0.998841</td>\n",
       "      <td>0.822705</td>\n",
       "      <td>0.998841</td>\n",
       "      <td>0.008337</td>\n",
       "      <td>6.650779</td>\n",
       "      <td>0.982606</td>\n",
       "      <td>0.042818</td>\n",
       "      <td>0.587265</td>\n",
       "      <td>2.222096</td>\n",
       "      <td>0.069</td>\n",
       "    </tr>\n",
       "  </tbody>\n",
       "</table>\n",
       "<p>1 rows × 27 columns</p>\n",
       "</div>"
      ],
      "text/plain": [
       "       PRECISION PRECISION_RECALL_MIN_DEN    RECALL      MAP MAP_MIN_DEN  \\\n",
       "cutoff                                                                     \n",
       "10      0.276798                 0.319192  0.181803  0.19267    0.215998   \n",
       "\n",
       "             MRR     NDCG        F1 HIT_RATE ARHR_ALL_HITS  ... COVERAGE_USER  \\\n",
       "cutoff                                                      ...                 \n",
       "10      0.576656  0.27116  0.219462  0.82366      1.013639  ...      0.998841   \n",
       "\n",
       "       COVERAGE_USER_HIT USERS_IN_GT DIVERSITY_GINI SHANNON_ENTROPY  \\\n",
       "cutoff                                                                \n",
       "10              0.822705    0.998841       0.008337        6.650779   \n",
       "\n",
       "       RATIO_DIVERSITY_HERFINDAHL RATIO_DIVERSITY_GINI RATIO_SHANNON_ENTROPY  \\\n",
       "cutoff                                                                         \n",
       "10                       0.982606             0.042818              0.587265   \n",
       "\n",
       "       RATIO_AVERAGE_POPULARITY RATIO_NOVELTY  \n",
       "cutoff                                         \n",
       "10                     2.222096         0.069  \n",
       "\n",
       "[1 rows x 27 columns]"
      ]
     },
     "execution_count": 26,
     "metadata": {},
     "output_type": "execute_result"
    }
   ],
   "source": [
    "from Recommenders.GraphBased.RP3betaRecommender import RP3betaRecommender\n",
    "from Evaluation.Evaluator import EvaluatorHoldout\n",
    "\n",
    "recommender_fw = RP3betaRecommender(URM_train_val)\n",
    "recommender_fw.fit(alpha=0.5, beta=0.3, topK=RP3beta_optimal.topK, normalize_similarity=RP3beta_optimal.normalize_sim)\n",
    "\n",
    "evaluator_test = EvaluatorHoldout(URM_test, [10])\n",
    "\n",
    "# evaluate_recommender(URM_test, recommender_try)\n",
    "result_fw_df, _ = evaluator_test.evaluateRecommender(recommender_fw)\n",
    "result_fw_df"
   ]
  },
  {
   "cell_type": "markdown",
   "metadata": {},
   "source": [
    "Let's now compare $P^3$, $P^3_\\alpha$ and $RP^3_\\beta$. Plotting each model's recommendation frequencies, we can have an idea of how much their predictions differ. Also, we can assess each model in terms of recommendation *diversity*."
   ]
  },
  {
   "cell_type": "code",
   "execution_count": null,
   "metadata": {},
   "outputs": [],
   "source": [
    "import matplotlib.pyplot as plt\n",
    "\n",
    "def plot_rec_frequencies(list_recommenders, URM_all, TopPop_order : bool = False):\n",
    "\n",
    "    x_tick = np.arange(URM_all.shape[1])\n",
    "    counters = [np.zeros(URM_all.shape[1]) for i in range(len(list_recommenders))]\n",
    "\n",
    "    for user_id in range(URM_all.shape[0]):\n",
    "\n",
    "        for i in range(len(list_recommenders)):\n",
    "            recs = list_recommenders[i].recommend(user_id, at=10)\n",
    "            counters[i][recs] += 1\n",
    "        \n",
    "    if TopPop_order:\n",
    "        item_popularity = np.ediff1d(URM_all.tocsc().indptr)\n",
    "        sorted_items = np.argsort(item_popularity)\n",
    "        sorted_items = np.flip(sorted_items, axis=0)\n",
    "    else:\n",
    "        sorted_items = np.argsort(-counters[0])\n",
    "        \n",
    "    for j in range(len(counters)):    \n",
    "        plt.plot(x_tick, counters[j][sorted_items], label = \"Model {}\".format(j))\n",
    "    if TopPop_order : plt.plot(x_tick, item_popularity[sorted_items], label = \"TopPop\")\n",
    "\n",
    "    plt.ylabel('Number of recommendations')\n",
    "    plt.xlabel('Items')\n",
    "    plt.legend()\n",
    "    plt.show()"
   ]
  },
  {
   "cell_type": "code",
   "execution_count": null,
   "metadata": {},
   "outputs": [
    {
     "ename": "NameError",
     "evalue": "name 'P3alpha_optimal' is not defined",
     "output_type": "error",
     "traceback": [
      "\u001b[0;31m---------------------------------------------------------------------------\u001b[0m",
      "\u001b[0;31mNameError\u001b[0m                                 Traceback (most recent call last)",
      "Cell \u001b[0;32mIn[24], line 1\u001b[0m\n\u001b[0;32m----> 1\u001b[0m plot_rec_frequencies([models[\u001b[38;5;124m'\u001b[39m\u001b[38;5;124mP3\u001b[39m\u001b[38;5;124m'\u001b[39m], \u001b[43mP3alpha_optimal\u001b[49m, RP3beta_optimal], URM_all)\n",
      "\u001b[0;31mNameError\u001b[0m: name 'P3alpha_optimal' is not defined"
     ]
    }
   ],
   "source": [
    "plot_rec_frequencies([models['P3'], P3alpha_optimal, RP3beta_optimal], URM_all)"
   ]
  },
  {
   "cell_type": "markdown",
   "metadata": {},
   "source": [
    "$P^3$ provides recommendations that are noticeably less diverse than the other models. See how short and skewed its \"short head\" is?\n",
    "\n",
    "### $P^5$, $P^7$\n",
    "\n",
    "The random walk we perform has not necessarily got to be 3 steps long: any odd number of steps will work (3, 5, 7...), with varying degrees of success. We can build a `Recommender` class that takes this into account, using the same structure as the previous `P3Recommender`:"
   ]
  },
  {
   "cell_type": "code",
   "execution_count": null,
   "metadata": {},
   "outputs": [],
   "source": [
    "# P5/P7 e come cambiano le raccomandazioni/similarity density (se la RAM regge) --> se non regge, applicare KNN come da framework (similarityMatrixTopK)\n",
    "class PXRecommender(BaseRecommender):\n",
    "    def __init__(self, URM, hops : int):\n",
    "        self.URM = URM\n",
    "        self.hops = hops\n",
    "        if hops % 2 == 0:\n",
    "            raise ValueError(\"Number of hops must be odd.\")\n",
    "\n",
    "    def fit(self):\n",
    "        self.n_step_walk, _ = transition_matrix_blocks(self.URM, self.hops, extract_similarity=False)\n",
    "\n",
    "    def recommend(self, user_id, remove_seen : bool = True, at : Optional[int] = None):\n",
    "        Pi_0 = np.zeros(self.URM.shape[0], dtype=np.int32)\n",
    "        Pi_0[user_id] = 1\n",
    "        Pi_0 = sps.csr_matrix(Pi_0)\n",
    "\n",
    "        ranking = Pi_0.dot(self.n_step_walk).toarray().ravel()\n",
    "\n",
    "        if remove_seen:\n",
    "            user_profile_start = self.URM.indptr[user_id]\n",
    "            user_profile_end = self.URM.indptr[user_id+1]\n",
    "            \n",
    "            seen_items = self.URM.indices[user_profile_start:user_profile_end]\n",
    "            \n",
    "            ranking[seen_items] = -np.inf\n",
    "            \n",
    "        ranking = np.flip(np.argsort(ranking))\n",
    "        return ranking[:at]"
   ]
  },
  {
   "cell_type": "markdown",
   "metadata": {},
   "source": [
    "Let us now train, test and compare three graph-based models that differ in the number of steps they make in their random walks:"
   ]
  },
  {
   "cell_type": "code",
   "execution_count": null,
   "metadata": {},
   "outputs": [
    {
     "name": "stdout",
     "output_type": "stream",
     "text": [
      "Recommender results are: Precision = 0.1471, Recall = 0.1231, MAP = 0.0986\n",
      "P3 trained in 2.88 min\n",
      "Recommender results are: Precision = 0.1100, Recall = 0.0793, MAP = 0.0650\n",
      "P5 trained in 5.54 min\n",
      "Recommender results are: Precision = 0.1033, Recall = 0.0743, MAP = 0.0602\n",
      "P7 trained in 8.01 min\n"
     ]
    }
   ],
   "source": [
    "# Compute recommendations on test set with P3, P5 and P7\n",
    "models = {\n",
    "    'P3' : PXRecommender(URM_train_val, hops=3),\n",
    "    'P5' : PXRecommender(URM_train_val, hops=5),\n",
    "    'P7' : PXRecommender(URM_train_val, hops=7)\n",
    "}\n",
    "\n",
    "for model_name, model_obj in models.items():\n",
    "    time_start = time.time()\n",
    "    model_obj.fit()\n",
    "    time_end_value, time_unit = seconds_to_biggest_unit(time.time() - time_start)\n",
    "    # PRAXIS WHEN USING THE COURSE'S FRAMEWORK: result_df, _ = evaluator_test.evaluateRecommender(model_obj)\n",
    "    _ = evaluate_recommender(URM_test, model_obj)\n",
    "    print(\"{} trained in {:.2f} {}\".format(model_name, time_end_value, time_unit))"
   ]
  },
  {
   "cell_type": "markdown",
   "metadata": {},
   "source": [
    "Notice how the more steps we take, the worse the model performs, both in terms of MAP and of training time. This is not by chance: obviously, we need to perform more computations; also, the more steps a random walk is composed of, the more we *smoothe* interaction signals (i.e., the recommender we obtain becomes more and more prone to **Popularity bias**)."
   ]
  },
  {
   "cell_type": "code",
   "execution_count": null,
   "metadata": {},
   "outputs": [
    {
     "ename": "KeyboardInterrupt",
     "evalue": "",
     "output_type": "error",
     "traceback": [
      "\u001b[0;31m---------------------------------------------------------------------------\u001b[0m",
      "\u001b[0;31mKeyboardInterrupt\u001b[0m                         Traceback (most recent call last)",
      "Cell \u001b[0;32mIn[26], line 2\u001b[0m\n\u001b[1;32m      1\u001b[0m \u001b[38;5;66;03m# Popularity plot\u001b[39;00m\n\u001b[0;32m----> 2\u001b[0m \u001b[43mplot_rec_frequencies\u001b[49m\u001b[43m(\u001b[49m\u001b[43m[\u001b[49m\u001b[43my\u001b[49m\u001b[43m \u001b[49m\u001b[38;5;28;43;01mfor\u001b[39;49;00m\u001b[43m \u001b[49m\u001b[43m_\u001b[49m\u001b[43m,\u001b[49m\u001b[43m \u001b[49m\u001b[43my\u001b[49m\u001b[43m \u001b[49m\u001b[38;5;129;43;01min\u001b[39;49;00m\u001b[43m \u001b[49m\u001b[43mmodels\u001b[49m\u001b[38;5;241;43m.\u001b[39;49m\u001b[43mitems\u001b[49m\u001b[43m(\u001b[49m\u001b[43m)\u001b[49m\u001b[43m]\u001b[49m\u001b[43m,\u001b[49m\u001b[43m \u001b[49m\u001b[43mURM_all\u001b[49m\u001b[43m,\u001b[49m\u001b[43m \u001b[49m\u001b[43mTopPop_order\u001b[49m\u001b[38;5;241;43m=\u001b[39;49m\u001b[38;5;28;43;01mTrue\u001b[39;49;00m\u001b[43m)\u001b[49m\n",
      "Cell \u001b[0;32mIn[23], line 11\u001b[0m, in \u001b[0;36mplot_rec_frequencies\u001b[0;34m(list_recommenders, URM_all, TopPop_order)\u001b[0m\n\u001b[1;32m      8\u001b[0m \u001b[38;5;28;01mfor\u001b[39;00m user_id \u001b[38;5;129;01min\u001b[39;00m \u001b[38;5;28mrange\u001b[39m(URM_all\u001b[38;5;241m.\u001b[39mshape[\u001b[38;5;241m0\u001b[39m]):\n\u001b[1;32m     10\u001b[0m     \u001b[38;5;28;01mfor\u001b[39;00m i \u001b[38;5;129;01min\u001b[39;00m \u001b[38;5;28mrange\u001b[39m(\u001b[38;5;28mlen\u001b[39m(list_recommenders)):\n\u001b[0;32m---> 11\u001b[0m         recs \u001b[38;5;241m=\u001b[39m \u001b[43mlist_recommenders\u001b[49m\u001b[43m[\u001b[49m\u001b[43mi\u001b[49m\u001b[43m]\u001b[49m\u001b[38;5;241;43m.\u001b[39;49m\u001b[43mrecommend\u001b[49m\u001b[43m(\u001b[49m\u001b[43muser_id\u001b[49m\u001b[43m,\u001b[49m\u001b[43m \u001b[49m\u001b[43mat\u001b[49m\u001b[38;5;241;43m=\u001b[39;49m\u001b[38;5;241;43m10\u001b[39;49m\u001b[43m)\u001b[49m\n\u001b[1;32m     12\u001b[0m         counters[i][recs] \u001b[38;5;241m+\u001b[39m\u001b[38;5;241m=\u001b[39m \u001b[38;5;241m1\u001b[39m\n\u001b[1;32m     14\u001b[0m \u001b[38;5;28;01mif\u001b[39;00m TopPop_order:\n",
      "Cell \u001b[0;32mIn[18], line 22\u001b[0m, in \u001b[0;36mP3Recommender.recommend\u001b[0;34m(self, user_id, remove_seen, at)\u001b[0m\n\u001b[1;32m     19\u001b[0m Pi_0[user_id] \u001b[38;5;241m=\u001b[39m \u001b[38;5;241m1\u001b[39m\n\u001b[1;32m     20\u001b[0m Pi_0 \u001b[38;5;241m=\u001b[39m sps\u001b[38;5;241m.\u001b[39mcsr_matrix(Pi_0)\n\u001b[0;32m---> 22\u001b[0m ranking \u001b[38;5;241m=\u001b[39m \u001b[43mPi_0\u001b[49m\u001b[38;5;241;43m.\u001b[39;49m\u001b[43mdot\u001b[49m\u001b[43m(\u001b[49m\u001b[38;5;28;43mself\u001b[39;49m\u001b[38;5;241;43m.\u001b[39;49m\u001b[43mthree_step_walk\u001b[49m\u001b[43m)\u001b[49m\u001b[38;5;241m.\u001b[39mtoarray()\u001b[38;5;241m.\u001b[39mravel()\n\u001b[1;32m     24\u001b[0m \u001b[38;5;28;01mif\u001b[39;00m remove_seen:\n\u001b[1;32m     25\u001b[0m     user_profile_start \u001b[38;5;241m=\u001b[39m \u001b[38;5;28mself\u001b[39m\u001b[38;5;241m.\u001b[39mURM_train\u001b[38;5;241m.\u001b[39mindptr[user_id]\n",
      "File \u001b[0;32m/opt/homebrew/Caskroom/miniconda/base/envs/RSFramework/lib/python3.9/site-packages/scipy/sparse/_base.py:474\u001b[0m, in \u001b[0;36m_spbase.dot\u001b[0;34m(self, other)\u001b[0m\n\u001b[1;32m    472\u001b[0m     \u001b[38;5;28;01mreturn\u001b[39;00m \u001b[38;5;28mself\u001b[39m \u001b[38;5;241m*\u001b[39m other\n\u001b[1;32m    473\u001b[0m \u001b[38;5;28;01melse\u001b[39;00m:\n\u001b[0;32m--> 474\u001b[0m     \u001b[38;5;28;01mreturn\u001b[39;00m \u001b[38;5;28;43mself\u001b[39;49m\u001b[43m \u001b[49m\u001b[38;5;241;43m@\u001b[39;49m\u001b[43m \u001b[49m\u001b[43mother\u001b[49m\n",
      "File \u001b[0;32m/opt/homebrew/Caskroom/miniconda/base/envs/RSFramework/lib/python3.9/site-packages/scipy/sparse/_base.py:695\u001b[0m, in \u001b[0;36m_spbase.__matmul__\u001b[0;34m(self, other)\u001b[0m\n\u001b[1;32m    692\u001b[0m \u001b[38;5;28;01mif\u001b[39;00m isscalarlike(other):\n\u001b[1;32m    693\u001b[0m     \u001b[38;5;28;01mraise\u001b[39;00m \u001b[38;5;167;01mValueError\u001b[39;00m(\u001b[38;5;124m\"\u001b[39m\u001b[38;5;124mScalar operands are not allowed, \u001b[39m\u001b[38;5;124m\"\u001b[39m\n\u001b[1;32m    694\u001b[0m                      \u001b[38;5;124m\"\u001b[39m\u001b[38;5;124muse \u001b[39m\u001b[38;5;124m'\u001b[39m\u001b[38;5;124m*\u001b[39m\u001b[38;5;124m'\u001b[39m\u001b[38;5;124m instead\u001b[39m\u001b[38;5;124m\"\u001b[39m)\n\u001b[0;32m--> 695\u001b[0m \u001b[38;5;28;01mreturn\u001b[39;00m \u001b[38;5;28;43mself\u001b[39;49m\u001b[38;5;241;43m.\u001b[39;49m\u001b[43m_matmul_dispatch\u001b[49m\u001b[43m(\u001b[49m\u001b[43mother\u001b[49m\u001b[43m)\u001b[49m\n",
      "File \u001b[0;32m/opt/homebrew/Caskroom/miniconda/base/envs/RSFramework/lib/python3.9/site-packages/scipy/sparse/_base.py:606\u001b[0m, in \u001b[0;36m_spbase._matmul_dispatch\u001b[0;34m(self, other)\u001b[0m\n\u001b[1;32m    604\u001b[0m     \u001b[38;5;28;01mif\u001b[39;00m other\u001b[38;5;241m.\u001b[39mndim \u001b[38;5;241m==\u001b[39m \u001b[38;5;241m1\u001b[39m:\n\u001b[1;32m    605\u001b[0m         \u001b[38;5;28;01mraise\u001b[39;00m \u001b[38;5;167;01mValueError\u001b[39;00m(\u001b[38;5;124m'\u001b[39m\u001b[38;5;124mCannot yet multiply a 1d sparse array\u001b[39m\u001b[38;5;124m'\u001b[39m)\n\u001b[0;32m--> 606\u001b[0m     \u001b[38;5;28;01mreturn\u001b[39;00m \u001b[38;5;28;43mself\u001b[39;49m\u001b[38;5;241;43m.\u001b[39;49m\u001b[43m_matmul_sparse\u001b[49m\u001b[43m(\u001b[49m\u001b[43mother\u001b[49m\u001b[43m)\u001b[49m\n\u001b[1;32m    608\u001b[0m \u001b[38;5;66;03m# If it's a list or whatever, treat it like an array\u001b[39;00m\n\u001b[1;32m    609\u001b[0m other_a \u001b[38;5;241m=\u001b[39m np\u001b[38;5;241m.\u001b[39masanyarray(other)\n",
      "File \u001b[0;32m/opt/homebrew/Caskroom/miniconda/base/envs/RSFramework/lib/python3.9/site-packages/scipy/sparse/_compressed.py:535\u001b[0m, in \u001b[0;36m_cs_matrix._matmul_sparse\u001b[0;34m(self, other)\u001b[0m\n\u001b[1;32m    532\u001b[0m data \u001b[38;5;241m=\u001b[39m np\u001b[38;5;241m.\u001b[39mempty(nnz, dtype\u001b[38;5;241m=\u001b[39mupcast(\u001b[38;5;28mself\u001b[39m\u001b[38;5;241m.\u001b[39mdtype, other\u001b[38;5;241m.\u001b[39mdtype))\n\u001b[1;32m    534\u001b[0m fn \u001b[38;5;241m=\u001b[39m \u001b[38;5;28mgetattr\u001b[39m(_sparsetools, \u001b[38;5;28mself\u001b[39m\u001b[38;5;241m.\u001b[39mformat \u001b[38;5;241m+\u001b[39m \u001b[38;5;124m'\u001b[39m\u001b[38;5;124m_matmat\u001b[39m\u001b[38;5;124m'\u001b[39m)\n\u001b[0;32m--> 535\u001b[0m \u001b[43mfn\u001b[49m\u001b[43m(\u001b[49m\u001b[43mM\u001b[49m\u001b[43m,\u001b[49m\u001b[43m \u001b[49m\u001b[43mN\u001b[49m\u001b[43m,\u001b[49m\u001b[43m \u001b[49m\u001b[43mnp\u001b[49m\u001b[38;5;241;43m.\u001b[39;49m\u001b[43masarray\u001b[49m\u001b[43m(\u001b[49m\u001b[38;5;28;43mself\u001b[39;49m\u001b[38;5;241;43m.\u001b[39;49m\u001b[43mindptr\u001b[49m\u001b[43m,\u001b[49m\u001b[43m \u001b[49m\u001b[43mdtype\u001b[49m\u001b[38;5;241;43m=\u001b[39;49m\u001b[43midx_dtype\u001b[49m\u001b[43m)\u001b[49m\u001b[43m,\u001b[49m\n\u001b[1;32m    536\u001b[0m \u001b[43m   \u001b[49m\u001b[43mnp\u001b[49m\u001b[38;5;241;43m.\u001b[39;49m\u001b[43masarray\u001b[49m\u001b[43m(\u001b[49m\u001b[38;5;28;43mself\u001b[39;49m\u001b[38;5;241;43m.\u001b[39;49m\u001b[43mindices\u001b[49m\u001b[43m,\u001b[49m\u001b[43m \u001b[49m\u001b[43mdtype\u001b[49m\u001b[38;5;241;43m=\u001b[39;49m\u001b[43midx_dtype\u001b[49m\u001b[43m)\u001b[49m\u001b[43m,\u001b[49m\n\u001b[1;32m    537\u001b[0m \u001b[43m   \u001b[49m\u001b[38;5;28;43mself\u001b[39;49m\u001b[38;5;241;43m.\u001b[39;49m\u001b[43mdata\u001b[49m\u001b[43m,\u001b[49m\n\u001b[1;32m    538\u001b[0m \u001b[43m   \u001b[49m\u001b[43mnp\u001b[49m\u001b[38;5;241;43m.\u001b[39;49m\u001b[43masarray\u001b[49m\u001b[43m(\u001b[49m\u001b[43mother\u001b[49m\u001b[38;5;241;43m.\u001b[39;49m\u001b[43mindptr\u001b[49m\u001b[43m,\u001b[49m\u001b[43m \u001b[49m\u001b[43mdtype\u001b[49m\u001b[38;5;241;43m=\u001b[39;49m\u001b[43midx_dtype\u001b[49m\u001b[43m)\u001b[49m\u001b[43m,\u001b[49m\n\u001b[1;32m    539\u001b[0m \u001b[43m   \u001b[49m\u001b[43mnp\u001b[49m\u001b[38;5;241;43m.\u001b[39;49m\u001b[43masarray\u001b[49m\u001b[43m(\u001b[49m\u001b[43mother\u001b[49m\u001b[38;5;241;43m.\u001b[39;49m\u001b[43mindices\u001b[49m\u001b[43m,\u001b[49m\u001b[43m \u001b[49m\u001b[43mdtype\u001b[49m\u001b[38;5;241;43m=\u001b[39;49m\u001b[43midx_dtype\u001b[49m\u001b[43m)\u001b[49m\u001b[43m,\u001b[49m\n\u001b[1;32m    540\u001b[0m \u001b[43m   \u001b[49m\u001b[43mother\u001b[49m\u001b[38;5;241;43m.\u001b[39;49m\u001b[43mdata\u001b[49m\u001b[43m,\u001b[49m\n\u001b[1;32m    541\u001b[0m \u001b[43m   \u001b[49m\u001b[43mindptr\u001b[49m\u001b[43m,\u001b[49m\u001b[43m \u001b[49m\u001b[43mindices\u001b[49m\u001b[43m,\u001b[49m\u001b[43m \u001b[49m\u001b[43mdata\u001b[49m\u001b[43m)\u001b[49m\n\u001b[1;32m    543\u001b[0m \u001b[38;5;28;01mreturn\u001b[39;00m \u001b[38;5;28mself\u001b[39m\u001b[38;5;241m.\u001b[39m\u001b[38;5;18m__class__\u001b[39m((data, indices, indptr), shape\u001b[38;5;241m=\u001b[39m(M, N))\n",
      "\u001b[0;31mKeyboardInterrupt\u001b[0m: "
     ]
    }
   ],
   "source": [
    "# Popularity plot\n",
    "plot_rec_frequencies([y for _, y in models.items()], URM_all, TopPop_order=True)"
   ]
  },
  {
   "cell_type": "markdown",
   "metadata": {},
   "source": [
    "Even so, it is easy to make hybrids of graph-based models using different steps, as they have the same model structure."
   ]
  },
  {
   "attachments": {
    "image.png": {
     "image/png": "[encoded data removed]"
    }
   },
   "cell_type": "markdown",
   "metadata": {},
   "source": [
    "### Adding Content Metadata to the Mix\n",
    "\n",
    "*Tripartite graph*: in this case, we don't only have to deal with users and items. Content-based attributes are inserted into the graph as a third class of nodes, creating an adjacency matrix that looks like this:\n",
    "\n",
    "![image.png](attachment:image.png)\n",
    "\n",
    "Notice how attributes are only connected to items. A case for user-related attributes can also be explored, but it is out of the scope of this practice session.\n",
    "\n",
    "#### How do Random Walks change?\n",
    "\n",
    "Now, we are not only interested in the $U \\rightarrow I \\rightarrow U \\rightarrow I$ meta-path, as we can structure random walks that also follow the $U \\rightarrow I \\rightarrow A \\rightarrow I$ meta-path. We will need to handle this case as well."
   ]
  },
  {
   "cell_type": "code",
   "execution_count": null,
   "metadata": {},
   "outputs": [],
   "source": [
    "ICM_genres = data_loaded.get_loaded_ICM_dict()[\"ICM_genres\"]"
   ]
  },
  {
   "cell_type": "code",
   "execution_count": null,
   "metadata": {},
   "outputs": [
    {
     "name": "stdout",
     "output_type": "stream",
     "text": [
      "RP3betaRecommender: URM Detected 31 ( 0.3%) items with no interactions.\n",
      "RP3betaRecommender: Similarity column 10681 (100.0%), 1696.29 column/sec. Elapsed time 6.30 sec\n",
      "RP3betaRecommender: Similarity column 10681 (100.0%), 7347.02 column/sec. Elapsed time 1.45 sec\n",
      "ItemKNNCustomSimilarityRecommender: URM Detected 31 ( 0.3%) items with no interactions.\n",
      "EvaluatorHoldout: Ignoring 81 ( 0.1%) Users that have less than 1 test interactions\n",
      "EvaluatorHoldout: Processed 69797 (100.0%) in 15.19 sec. Users per second: 4594\n"
     ]
    },
    {
     "data": {
      "text/html": [
       "<div>\n",
       "<style scoped>\n",
       "    .dataframe tbody tr th:only-of-type {\n",
       "        vertical-align: middle;\n",
       "    }\n",
       "\n",
       "    .dataframe tbody tr th {\n",
       "        vertical-align: top;\n",
       "    }\n",
       "\n",
       "    .dataframe thead th {\n",
       "        text-align: right;\n",
       "    }\n",
       "</style>\n",
       "<table border=\"1\" class=\"dataframe\">\n",
       "  <thead>\n",
       "    <tr style=\"text-align: right;\">\n",
       "      <th></th>\n",
       "      <th>PRECISION</th>\n",
       "      <th>PRECISION_RECALL_MIN_DEN</th>\n",
       "      <th>RECALL</th>\n",
       "      <th>MAP</th>\n",
       "      <th>MAP_MIN_DEN</th>\n",
       "      <th>MRR</th>\n",
       "      <th>NDCG</th>\n",
       "      <th>F1</th>\n",
       "      <th>HIT_RATE</th>\n",
       "      <th>ARHR_ALL_HITS</th>\n",
       "      <th>...</th>\n",
       "      <th>COVERAGE_USER</th>\n",
       "      <th>COVERAGE_USER_HIT</th>\n",
       "      <th>USERS_IN_GT</th>\n",
       "      <th>DIVERSITY_GINI</th>\n",
       "      <th>SHANNON_ENTROPY</th>\n",
       "      <th>RATIO_DIVERSITY_HERFINDAHL</th>\n",
       "      <th>RATIO_DIVERSITY_GINI</th>\n",
       "      <th>RATIO_SHANNON_ENTROPY</th>\n",
       "      <th>RATIO_AVERAGE_POPULARITY</th>\n",
       "      <th>RATIO_NOVELTY</th>\n",
       "    </tr>\n",
       "    <tr>\n",
       "      <th>cutoff</th>\n",
       "      <th></th>\n",
       "      <th></th>\n",
       "      <th></th>\n",
       "      <th></th>\n",
       "      <th></th>\n",
       "      <th></th>\n",
       "      <th></th>\n",
       "      <th></th>\n",
       "      <th></th>\n",
       "      <th></th>\n",
       "      <th></th>\n",
       "      <th></th>\n",
       "      <th></th>\n",
       "      <th></th>\n",
       "      <th></th>\n",
       "      <th></th>\n",
       "      <th></th>\n",
       "      <th></th>\n",
       "      <th></th>\n",
       "      <th></th>\n",
       "      <th></th>\n",
       "    </tr>\n",
       "  </thead>\n",
       "  <tbody>\n",
       "    <tr>\n",
       "      <th>10</th>\n",
       "      <td>0.302258</td>\n",
       "      <td>0.345797</td>\n",
       "      <td>0.191316</td>\n",
       "      <td>0.217371</td>\n",
       "      <td>0.24167</td>\n",
       "      <td>0.603101</td>\n",
       "      <td>0.292025</td>\n",
       "      <td>0.234318</td>\n",
       "      <td>0.838847</td>\n",
       "      <td>1.096253</td>\n",
       "      <td>...</td>\n",
       "      <td>0.998841</td>\n",
       "      <td>0.837875</td>\n",
       "      <td>0.998841</td>\n",
       "      <td>0.01167</td>\n",
       "      <td>7.081081</td>\n",
       "      <td>0.986881</td>\n",
       "      <td>0.059933</td>\n",
       "      <td>0.625261</td>\n",
       "      <td>2.079951</td>\n",
       "      <td>0.070043</td>\n",
       "    </tr>\n",
       "  </tbody>\n",
       "</table>\n",
       "<p>1 rows × 27 columns</p>\n",
       "</div>"
      ],
      "text/plain": [
       "       PRECISION PRECISION_RECALL_MIN_DEN    RECALL       MAP MAP_MIN_DEN  \\\n",
       "cutoff                                                                      \n",
       "10      0.302258                 0.345797  0.191316  0.217371     0.24167   \n",
       "\n",
       "             MRR      NDCG        F1  HIT_RATE ARHR_ALL_HITS  ...  \\\n",
       "cutoff                                                        ...   \n",
       "10      0.603101  0.292025  0.234318  0.838847      1.096253  ...   \n",
       "\n",
       "       COVERAGE_USER COVERAGE_USER_HIT USERS_IN_GT DIVERSITY_GINI  \\\n",
       "cutoff                                                              \n",
       "10          0.998841          0.837875    0.998841        0.01167   \n",
       "\n",
       "       SHANNON_ENTROPY RATIO_DIVERSITY_HERFINDAHL RATIO_DIVERSITY_GINI  \\\n",
       "cutoff                                                                   \n",
       "10            7.081081                   0.986881             0.059933   \n",
       "\n",
       "       RATIO_SHANNON_ENTROPY RATIO_AVERAGE_POPULARITY RATIO_NOVELTY  \n",
       "cutoff                                                               \n",
       "10                  0.625261                 2.079951      0.070043  \n",
       "\n",
       "[1 rows x 27 columns]"
      ]
     },
     "execution_count": 33,
     "metadata": {},
     "output_type": "execute_result"
    }
   ],
   "source": [
    "from Recommenders.GraphBased.RP3betaRecommender import RP3betaRecommender\n",
    "from Recommenders.KNN.ItemKNNCustomSimilarityRecommender import ItemKNNCustomSimilarityRecommender\n",
    "from Evaluation.Evaluator import EvaluatorHoldout\n",
    "\n",
    "icm_weight = 0.5 # <- tunable hyperparameter\n",
    "\n",
    "# Train graph-based recommender\n",
    "# U -> I -> [U -> I] <-- normal RP3beta\n",
    "u_i_recommender = RP3betaRecommender(URM_train_val)\n",
    "u_i_recommender.fit(alpha=0.5, beta=0.3, implicit=True)\n",
    "\n",
    "# U -> I -> [A -> I] <-- tag-based RP3beta\n",
    "a_i_recommender = RP3betaRecommender(ICM_genres.T)\n",
    "a_i_recommender.fit(alpha=0.5, beta=0.3)\n",
    "\n",
    "custom_similarity = u_i_recommender.W_sparse + icm_weight * a_i_recommender.W_sparse # <- additionally, you could try normalizations\n",
    "\n",
    "# Hybrid similarity recommender\n",
    "recommender = ItemKNNCustomSimilarityRecommender(URM_train_val)\n",
    "recommender.fit(custom_similarity)\n",
    "\n",
    "evaluator_test = EvaluatorHoldout(URM_test, [10])\n",
    "\n",
    "result_df_hybrid, _ = evaluator_test.evaluateRecommender(recommender)\n",
    "result_df_hybrid"
   ]
  }
 ],
 "metadata": {
  "kernelspec": {
   "display_name": "RSFramework",
   "language": "python",
   "name": "python3"
  },
  "language_info": {
   "codemirror_mode": {
    "name": "ipython",
    "version": 3
   },
   "file_extension": ".py",
   "mimetype": "text/x-python",
   "name": "python",
   "nbconvert_exporter": "python",
   "pygments_lexer": "ipython3",
   "version": "3.9.7"
  }
 },
 "nbformat": 4,
 "nbformat_minor": 2
}
